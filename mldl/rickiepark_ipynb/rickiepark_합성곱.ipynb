{
  "cells": [
    {
      "cell_type": "markdown",
      "metadata": {
        "id": "VsZV03UD5Qb5"
      },
      "source": [
        "# 합성곱 신경망을 사용한 이미지 분류"
      ]
    },
    {
      "cell_type": "markdown",
      "metadata": {
        "id": "MiG7uEQF5QcA"
      },
      "source": [
        "<table align=\"left\">\n",
        "  <td>\n",
        "    <a target=\"_blank\" href=\"https://colab.research.google.com/github/rickiepark/hg-mldl/blob/master/8-2.ipynb\"><img src=\"https://www.tensorflow.org/images/colab_logo_32px.png\" />구글 코랩에서 실행하기</a>\n",
        "  </td>\n",
        "</table>"
      ]
    },
    {
      "cell_type": "code",
      "execution_count": 1,
      "metadata": {
        "id": "pS9ZuQWfCeHe"
      },
      "outputs": [],
      "source": [
        "# 실행마다 동일한 결과를 얻기 위해 케라스에 랜덤 시드를 사용하고 텐서플로 연산을 결정적으로 만듭니다.\n",
        "import tensorflow as tf\n",
        "\n",
        "tf.keras.utils.set_random_seed(42)"
      ]
    },
    {
      "cell_type": "markdown",
      "metadata": {
        "id": "fQSb0wK85QcA"
      },
      "source": [
        "## 패션 MNIST 데이터 불러오기"
      ]
    },
    {
      "cell_type": "code",
      "execution_count": 2,
      "metadata": {
        "colab": {
          "base_uri": "https://localhost:8080/"
        },
        "id": "BGJBttQs5QcA",
        "outputId": "69d38c54-30bd-420f-c453-f1851fb80e02"
      },
      "outputs": [],
      "source": [
        "from tensorflow import keras\n",
        "from sklearn.model_selection import train_test_split\n",
        "\n",
        "(train_input, train_target), (test_input, test_target) = \\\n",
        "    keras.datasets.fashion_mnist.load_data()\n",
        "\n",
        "train_scaled = train_input.reshape(-1, 28, 28, 1) / 255.0\n",
        "\n",
        "train_scaled, val_scaled, train_target, val_target = train_test_split(\n",
        "    train_scaled, train_target, test_size=0.2, random_state=42)"
      ]
    },
    {
      "cell_type": "markdown",
      "metadata": {
        "id": "Y4m7l2115QcB"
      },
      "source": [
        "## 합성곱 신경망 만들기"
      ]
    },
    {
      "cell_type": "code",
      "execution_count": 3,
      "metadata": {
        "id": "wubmkM6q5QcB"
      },
      "outputs": [],
      "source": [
        "model = keras.Sequential()"
      ]
    },
    {
      "cell_type": "code",
      "execution_count": 4,
      "metadata": {
        "colab": {
          "base_uri": "https://localhost:8080/"
        },
        "id": "fcuXinil5QcB",
        "outputId": "cf0f095d-2419-4f9f-af33-8ff98f4029a5"
      },
      "outputs": [],
      "source": [
        "model.add(keras.layers.Conv2D(32, kernel_size=3, activation='relu',\n",
        "                              padding='same', input_shape=(28,28,1)))"
      ]
    },
    {
      "cell_type": "code",
      "execution_count": 5,
      "metadata": {
        "id": "ddZAIUwJ5QcB"
      },
      "outputs": [],
      "source": [
        "model.add(keras.layers.MaxPooling2D(2))"
      ]
    },
    {
      "cell_type": "code",
      "execution_count": 6,
      "metadata": {
        "id": "6NbO08605QcC"
      },
      "outputs": [],
      "source": [
        "model.add(keras.layers.Conv2D(64, kernel_size=(3,3), activation='relu',\n",
        "                              padding='same'))\n",
        "model.add(keras.layers.MaxPooling2D(2))"
      ]
    },
    {
      "cell_type": "code",
      "execution_count": 7,
      "metadata": {
        "id": "sxlx0yyS5QcC"
      },
      "outputs": [],
      "source": [
        "model.add(keras.layers.Flatten())\n",
        "model.add(keras.layers.Dense(100, activation='relu'))\n",
        "model.add(keras.layers.Dropout(0.4))\n",
        "model.add(keras.layers.Dense(10, activation='softmax'))"
      ]
    },
    {
      "cell_type": "code",
      "execution_count": 8,
      "metadata": {
        "colab": {
          "base_uri": "https://localhost:8080/",
          "height": 393
        },
        "id": "1CFKlE-B5QcC",
        "outputId": "61fc192c-b323-446b-d1d7-9a810d205158"
      },
      "outputs": [
        {
          "name": "stdout",
          "output_type": "stream",
          "text": [
            "Model: \"sequential\"\n",
            "_________________________________________________________________\n",
            " Layer (type)                Output Shape              Param #   \n",
            "=================================================================\n",
            " conv2d (Conv2D)             (None, 28, 28, 32)        320       \n",
            "                                                                 \n",
            " max_pooling2d (MaxPooling2  (None, 14, 14, 32)        0         \n",
            " D)                                                              \n",
            "                                                                 \n",
            " conv2d_1 (Conv2D)           (None, 14, 14, 64)        18496     \n",
            "                                                                 \n",
            " max_pooling2d_1 (MaxPoolin  (None, 7, 7, 64)          0         \n",
            " g2D)                                                            \n",
            "                                                                 \n",
            " flatten (Flatten)           (None, 3136)              0         \n",
            "                                                                 \n",
            " dense (Dense)               (None, 100)               313700    \n",
            "                                                                 \n",
            " dropout (Dropout)           (None, 100)               0         \n",
            "                                                                 \n",
            " dense_1 (Dense)             (None, 10)                1010      \n",
            "                                                                 \n",
            "=================================================================\n",
            "Total params: 333526 (1.27 MB)\n",
            "Trainable params: 333526 (1.27 MB)\n",
            "Non-trainable params: 0 (0.00 Byte)\n",
            "_________________________________________________________________\n"
          ]
        }
      ],
      "source": [
        "model.summary()"
      ]
    },
    {
      "cell_type": "code",
      "execution_count": 9,
      "metadata": {
        "colab": {
          "base_uri": "https://localhost:8080/",
          "height": 1000
        },
        "id": "uO2xZfrF5QcD",
        "outputId": "d3d7b9c0-35b3-4b79-b447-e18af64cf4c7"
      },
      "outputs": [
        {
          "name": "stdout",
          "output_type": "stream",
          "text": [
            "You must install pydot (`pip install pydot`) and install graphviz (see instructions at https://graphviz.gitlab.io/download/) for plot_model to work.\n"
          ]
        }
      ],
      "source": [
        "keras.utils.plot_model(model)"
      ]
    },
    {
      "cell_type": "code",
      "execution_count": 10,
      "metadata": {
        "colab": {
          "base_uri": "https://localhost:8080/",
          "height": 1000
        },
        "id": "FQTWlPbY5QcD",
        "outputId": "d8d62d3d-c8c8-4208-adca-66e8bdcda178"
      },
      "outputs": [
        {
          "name": "stdout",
          "output_type": "stream",
          "text": [
            "You must install pydot (`pip install pydot`) and install graphviz (see instructions at https://graphviz.gitlab.io/download/) for plot_model to work.\n"
          ]
        }
      ],
      "source": [
        "keras.utils.plot_model(model, show_shapes=True)"
      ]
    },
    {
      "cell_type": "markdown",
      "metadata": {
        "id": "7sO3by845QcE"
      },
      "source": [
        "## 모델 컴파일과 훈련"
      ]
    },
    {
      "cell_type": "code",
      "execution_count": 13,
      "metadata": {
        "colab": {
          "base_uri": "https://localhost:8080/"
        },
        "id": "Msys0HQp5QcE",
        "outputId": "8344a1f4-2096-4c86-ab9c-489d8a5c587d"
      },
      "outputs": [
        {
          "name": "stdout",
          "output_type": "stream",
          "text": [
            "Epoch 1/20\n",
            "1500/1500 [==============================] - 23s 15ms/step - loss: 0.2575 - accuracy: 0.9075 - val_loss: 0.2536 - val_accuracy: 0.9069\n",
            "Epoch 2/20\n",
            "   9/1500 [..............................] - ETA: 22s - loss: 0.2400 - accuracy: 0.8993"
          ]
        },
        {
          "name": "stderr",
          "output_type": "stream",
          "text": [
            "c:\\ProgramData\\anaconda3\\envs\\mldltest1\\lib\\site-packages\\keras\\src\\engine\\training.py:3000: UserWarning: You are saving your model as an HDF5 file via `model.save()`. This file format is considered legacy. We recommend using instead the native Keras format, e.g. `model.save('my_model.keras')`.\n",
            "  saving_api.save_model(\n"
          ]
        },
        {
          "name": "stdout",
          "output_type": "stream",
          "text": [
            "1500/1500 [==============================] - 24s 16ms/step - loss: 0.2598 - accuracy: 0.9056 - val_loss: 0.2347 - val_accuracy: 0.9123\n",
            "Epoch 3/20\n",
            "1500/1500 [==============================] - 24s 16ms/step - loss: 0.2340 - accuracy: 0.9153 - val_loss: 0.2266 - val_accuracy: 0.9177\n",
            "Epoch 4/20\n",
            "1500/1500 [==============================] - 25s 16ms/step - loss: 0.2136 - accuracy: 0.9209 - val_loss: 0.2164 - val_accuracy: 0.9187\n",
            "Epoch 5/20\n",
            "1500/1500 [==============================] - 23s 16ms/step - loss: 0.1960 - accuracy: 0.9270 - val_loss: 0.2156 - val_accuracy: 0.9209\n",
            "Epoch 6/20\n",
            "1500/1500 [==============================] - 23s 16ms/step - loss: 0.1800 - accuracy: 0.9343 - val_loss: 0.2067 - val_accuracy: 0.9255\n",
            "Epoch 7/20\n",
            "1500/1500 [==============================] - 24s 16ms/step - loss: 0.1655 - accuracy: 0.9375 - val_loss: 0.2162 - val_accuracy: 0.9224\n",
            "Epoch 8/20\n",
            "1500/1500 [==============================] - 24s 16ms/step - loss: 0.1538 - accuracy: 0.9417 - val_loss: 0.2203 - val_accuracy: 0.9222\n"
          ]
        }
      ],
      "source": [
        "model.compile(optimizer='adam', loss='sparse_categorical_crossentropy',\n",
        "              metrics=['accuracy'])\n",
        "\n",
        "checkpoint_cb = keras.callbacks.ModelCheckpoint('best-cnn-model.h5',\n",
        "                                                save_best_only=True)\n",
        "early_stopping_cb = keras.callbacks.EarlyStopping(patience=2,\n",
        "                                                  restore_best_weights=True)\n",
        "\n",
        "history = model.fit(train_scaled, train_target, epochs=20,\n",
        "                    validation_data=(val_scaled, val_target),\n",
        "                    callbacks=[checkpoint_cb, early_stopping_cb])"
      ]
    },
    {
      "cell_type": "code",
      "execution_count": null,
      "metadata": {
        "id": "Q9ZA46lb5QcE"
      },
      "outputs": [],
      "source": [
        "import matplotlib.pyplot as plt"
      ]
    },
    {
      "cell_type": "code",
      "execution_count": null,
      "metadata": {
        "colab": {
          "base_uri": "https://localhost:8080/",
          "height": 449
        },
        "id": "1JaC-KDn5QcF",
        "outputId": "dcd2d05a-727b-4f2d-d521-c310dce4988d"
      },
      "outputs": [
        {
          "data": {
            "image/png": "[encoded data removed]",
            "text/plain": [
              "<Figure size 640x480 with 1 Axes>"
            ]
          },
          "metadata": {},
          "output_type": "display_data"
        }
      ],
      "source": [
        "plt.plot(history.history['loss'])\n",
        "plt.plot(history.history['val_loss'])\n",
        "plt.xlabel('epoch')\n",
        "plt.ylabel('loss')\n",
        "plt.legend(['train', 'val'])\n",
        "plt.show()"
      ]
    },
    {
      "cell_type": "code",
      "execution_count": null,
      "metadata": {
        "colab": {
          "base_uri": "https://localhost:8080/"
        },
        "id": "W3pWBHLK5QcF",
        "outputId": "81cda7fa-5098-41b6-9c12-226bb7532bf5"
      },
      "outputs": [
        {
          "name": "stdout",
          "output_type": "stream",
          "text": [
            "\u001b[1m375/375\u001b[0m \u001b[32m━━━━━━━━━━━━━━━━━━━━\u001b[0m\u001b[37m\u001b[0m \u001b[1m1s\u001b[0m 2ms/step - accuracy: 0.9231 - loss: 0.2125\n"
          ]
        },
        {
          "data": {
            "text/plain": [
              "[0.21925583481788635, 0.9200833439826965]"
            ]
          },
          "execution_count": 14,
          "metadata": {},
          "output_type": "execute_result"
        }
      ],
      "source": [
        "model.evaluate(val_scaled, val_target)"
      ]
    },
    {
      "cell_type": "code",
      "execution_count": null,
      "metadata": {
        "colab": {
          "base_uri": "https://localhost:8080/",
          "height": 430
        },
        "id": "a9wUbDQL5QcG",
        "outputId": "eb7dd23a-e32a-4dd2-a5ff-1d64a9b79b92"
      },
      "outputs": [
        {
          "data": {
            "image/png": "[encoded data removed]",
            "text/plain": [
              "<Figure size 640x480 with 1 Axes>"
            ]
          },
          "metadata": {},
          "output_type": "display_data"
        }
      ],
      "source": [
        "plt.imshow(val_scaled[0].reshape(28, 28), cmap='gray_r')\n",
        "plt.show()"
      ]
    },
    {
      "cell_type": "code",
      "execution_count": null,
      "metadata": {
        "colab": {
          "base_uri": "https://localhost:8080/"
        },
        "id": "nRe6TDpw5QcG",
        "outputId": "48744b9b-934f-4840-a076-56c0d82e7d37",
        "scrolled": true
      },
      "outputs": [
        {
          "name": "stdout",
          "output_type": "stream",
          "text": [
            "\u001b[1m1/1\u001b[0m \u001b[32m━━━━━━━━━━━━━━━━━━━━\u001b[0m\u001b[37m\u001b[0m \u001b[1m0s\u001b[0m 411ms/step\n",
            "[[8.7171188e-19 1.7660993e-26 4.9542759e-21 1.7801612e-19 6.3786056e-18\n",
            "  4.7823439e-21 2.4926043e-19 3.2195997e-17 1.0000000e+00 4.5894585e-22]]\n"
          ]
        }
      ],
      "source": [
        "preds = model.predict(val_scaled[0:1])\n",
        "print(preds)"
      ]
    },
    {
      "cell_type": "code",
      "execution_count": null,
      "metadata": {
        "colab": {
          "base_uri": "https://localhost:8080/",
          "height": 449
        },
        "id": "bOBfv6De5QcG",
        "outputId": "67c6ff90-01d3-46b0-fcfa-a417bcf2d66b"
      },
      "outputs": [
        {
          "data": {
            "image/png": "[encoded data removed]",
            "text/plain": [
              "<Figure size 640x480 with 1 Axes>"
            ]
          },
          "metadata": {},
          "output_type": "display_data"
        }
      ],
      "source": [
        "plt.bar(range(1, 11), preds[0])\n",
        "plt.xlabel('class')\n",
        "plt.ylabel('prob.')\n",
        "plt.show()"
      ]
    },
    {
      "cell_type": "code",
      "execution_count": null,
      "metadata": {
        "id": "917fZGHu5QcG"
      },
      "outputs": [],
      "source": [
        "classes = ['티셔츠', '바지', '스웨터', '드레스', '코트',\n",
        "           '샌달', '셔츠', '스니커즈', '가방', '앵클 부츠']"
      ]
    },
    {
      "cell_type": "code",
      "execution_count": null,
      "metadata": {
        "colab": {
          "base_uri": "https://localhost:8080/"
        },
        "id": "h1JqgKgk5QcH",
        "outputId": "13cc7914-d4ac-4017-fa53-6e46f4daf936"
      },
      "outputs": [
        {
          "name": "stdout",
          "output_type": "stream",
          "text": [
            "가방\n"
          ]
        }
      ],
      "source": [
        "import numpy as np\n",
        "print(classes[np.argmax(preds)])"
      ]
    },
    {
      "cell_type": "code",
      "execution_count": null,
      "metadata": {
        "id": "G2ihSV-l5QcH"
      },
      "outputs": [],
      "source": [
        "test_scaled = test_input.reshape(-1, 28, 28, 1) / 255.0"
      ]
    },
    {
      "cell_type": "code",
      "execution_count": null,
      "metadata": {
        "colab": {
          "base_uri": "https://localhost:8080/"
        },
        "id": "1AHKDd2U5QcH",
        "outputId": "ec7f48be-b9fb-425d-8384-be05d3c6801a"
      },
      "outputs": [
        {
          "name": "stdout",
          "output_type": "stream",
          "text": [
            "\u001b[1m313/313\u001b[0m \u001b[32m━━━━━━━━━━━━━━━━━━━━\u001b[0m\u001b[37m\u001b[0m \u001b[1m2s\u001b[0m 4ms/step - accuracy: 0.9114 - loss: 0.2617\n"
          ]
        },
        {
          "data": {
            "text/plain": [
              "[0.2516588270664215, 0.9125000238418579]"
            ]
          },
          "execution_count": 21,
          "metadata": {},
          "output_type": "execute_result"
        }
      ],
      "source": [
        "model.evaluate(test_scaled, test_target)"
      ]
    }
  ],
  "metadata": {
    "accelerator": "GPU",
    "colab": {
      "name": "8-2.ipynb",
      "provenance": []
    },
    "kernelspec": {
      "display_name": "mldltest1",
      "language": "python",
      "name": "python3"
    },
    "language_info": {
      "codemirror_mode": {
        "name": "ipython",
        "version": 3
      },
      "file_extension": ".py",
      "mimetype": "text/x-python",
      "name": "python",
      "nbconvert_exporter": "python",
      "pygments_lexer": "ipython3",
      "version": "3.8.19"
    }
  },
  "nbformat": 4,
  "nbformat_minor": 0
}
