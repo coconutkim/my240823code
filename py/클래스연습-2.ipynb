{
 "cells": [
  {
   "cell_type": "code",
   "execution_count": 9,
   "id": "bff6fa77-a3a0-4313-b4ac-e7eb0e55fa1e",
   "metadata": {},
   "outputs": [],
   "source": [
    "class Student:\n",
    "    def __init__(self, name):\n",
    "        self.name = name\n",
    "    def study(self):\n",
    "        print(f'{self.name} 학생이 나이는 {self.age}살이고 공부를 한다')\n",
    "    def eat(self,menu):\n",
    "        print(f'{self.name}학생이 {menu}를 먹는다')"
   ]
  },
  {
   "cell_type": "code",
   "execution_count": 11,
   "id": "8b55517f-c52b-4cc3-8172-3daa9e78557d",
   "metadata": {},
   "outputs": [],
   "source": [
    "class Restaurant:\n",
    "    def __init__(self,menu):\n",
    "        self.menu = menu"
   ]
  },
  {
   "cell_type": "code",
   "execution_count": 13,
   "id": "445f0880-227b-42c1-85b9-9dfa82820101",
   "metadata": {},
   "outputs": [],
   "source": [
    "hong = Student('홍길동')"
   ]
  },
  {
   "cell_type": "code",
   "execution_count": 15,
   "id": "60afcf39-1148-4d38-8e24-07856bd4a6c6",
   "metadata": {},
   "outputs": [],
   "source": [
    "chinese = Restaurant('jja')"
   ]
  },
  {
   "cell_type": "code",
   "execution_count": 17,
   "id": "c8aaa679-0829-41bb-a13c-dc0f7830784e",
   "metadata": {},
   "outputs": [
    {
     "data": {
      "text/plain": [
       "'jja'"
      ]
     },
     "execution_count": 17,
     "metadata": {},
     "output_type": "execute_result"
    }
   ],
   "source": [
    "chinese.menu"
   ]
  },
  {
   "cell_type": "code",
   "execution_count": 19,
   "id": "b51662a2-57e4-4d4b-ae06-938641ebbf90",
   "metadata": {},
   "outputs": [
    {
     "name": "stdout",
     "output_type": "stream",
     "text": [
      "홍길동학생이 jja를 먹는다\n"
     ]
    }
   ],
   "source": [
    "hong.eat(chinese.menu)"
   ]
  },
  {
   "cell_type": "code",
   "execution_count": null,
   "id": "4bfd526c-94cd-4179-996f-eb726c9f5bbb",
   "metadata": {},
   "outputs": [],
   "source": []
  },
  {
   "cell_type": "code",
   "execution_count": null,
   "id": "d4e3181c-86f9-49f3-837f-6ba873170b1b",
   "metadata": {},
   "outputs": [],
   "source": []
  },
  {
   "cell_type": "code",
   "execution_count": null,
   "id": "c2c9fdf9-16ab-473d-9b20-fdcf584c2422",
   "metadata": {},
   "outputs": [],
   "source": []
  },
  {
   "cell_type": "code",
   "execution_count": null,
   "id": "89ffbca8-5f21-4197-8373-e4bf6ad89ef3",
   "metadata": {},
   "outputs": [],
   "source": []
  },
  {
   "cell_type": "code",
   "execution_count": null,
   "id": "e058c9a8-a8c6-4037-8670-8cbef631f37b",
   "metadata": {},
   "outputs": [],
   "source": []
  },
  {
   "cell_type": "code",
   "execution_count": null,
   "id": "0290acb0-e2c5-4464-b777-c3d8a986bbcd",
   "metadata": {},
   "outputs": [],
   "source": [
    "class Officer:\n",
    "    def __init__(self,name):\n",
    "        self.name = name\n",
    "    def "
   ]
  }
 ],
 "metadata": {
  "kernelspec": {
   "display_name": "Python 3 (ipykernel)",
   "language": "python",
   "name": "python3"
  },
  "language_info": {
   "codemirror_mode": {
    "name": "ipython",
    "version": 3
   },
   "file_extension": ".py",
   "mimetype": "text/x-python",
   "name": "python",
   "nbconvert_exporter": "python",
   "pygments_lexer": "ipython3",
   "version": "3.12.4"
  }
 },
 "nbformat": 4,
 "nbformat_minor": 5
}
