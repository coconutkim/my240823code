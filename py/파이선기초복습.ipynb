{
 "cells": [
  {
   "cell_type": "code",
   "execution_count": 1,
   "id": "b8665314-5586-45ad-a88f-c3317a17709e",
   "metadata": {},
   "outputs": [
    {
     "name": "stdout",
     "output_type": "stream",
     "text": [
      "hi\n"
     ]
    }
   ],
   "source": [
    "print('hi')"
   ]
  },
  {
   "cell_type": "code",
   "execution_count": 3,
   "id": "e02122ee-ca69-4fc4-ba5d-f594a1b50556",
   "metadata": {},
   "outputs": [],
   "source": [
    "num=1"
   ]
  },
  {
   "cell_type": "code",
   "execution_count": 5,
   "id": "e6f62c40-0e83-4e51-a65b-30f41d7f67e9",
   "metadata": {},
   "outputs": [
    {
     "data": {
      "text/plain": [
       "1"
      ]
     },
     "execution_count": 5,
     "metadata": {},
     "output_type": "execute_result"
    }
   ],
   "source": [
    "num"
   ]
  },
  {
   "cell_type": "code",
   "execution_count": 7,
   "id": "919ae67c-e06e-42f8-bdf1-f38f6a3f4d96",
   "metadata": {},
   "outputs": [],
   "source": [
    "if False:\n",
    "    print('hi')"
   ]
  },
  {
   "cell_type": "code",
   "execution_count": 9,
   "id": "8e54cba0-81cc-4dac-987a-63ce99cde91c",
   "metadata": {},
   "outputs": [
    {
     "name": "stdout",
     "output_type": "stream",
     "text": [
      "hi\n"
     ]
    }
   ],
   "source": [
    "if True:\n",
    "    print('hi')\n"
   ]
  },
  {
   "cell_type": "code",
   "execution_count": 11,
   "id": "46d1bb85-7489-42e3-8d83-968234f25fd0",
   "metadata": {},
   "outputs": [
    {
     "name": "stdout",
     "output_type": "stream",
     "text": [
      "hi\n"
     ]
    }
   ],
   "source": [
    "if True:\n",
    "    print('hi')\n",
    "else:\n",
    "    print('hi')"
   ]
  },
  {
   "cell_type": "code",
   "execution_count": 13,
   "id": "b844fdf6-5dc9-4d87-94b3-e6cc12e80cad",
   "metadata": {},
   "outputs": [
    {
     "name": "stdout",
     "output_type": "stream",
     "text": [
      "hi\n"
     ]
    }
   ],
   "source": [
    "if False:\n",
    "    print('hi')\n",
    "else:\n",
    "    print('hi')"
   ]
  },
  {
   "cell_type": "code",
   "execution_count": 15,
   "id": "23d563d7-1987-4cb6-8d36-dfd458633c72",
   "metadata": {},
   "outputs": [
    {
     "name": "stdout",
     "output_type": "stream",
     "text": [
      "hal\n"
     ]
    }
   ],
   "source": [
    "if False:\n",
    "    print('hi')\n",
    "else:\n",
    "    print('hal')"
   ]
  },
  {
   "cell_type": "code",
   "execution_count": 17,
   "id": "2ee9912a-4056-486b-8b64-28e6f37f079d",
   "metadata": {},
   "outputs": [
    {
     "name": "stdout",
     "output_type": "stream",
     "text": [
      "hel\n"
     ]
    }
   ],
   "source": [
    "if False:\n",
    "    print('hi')\n",
    "elif True:\n",
    "    print('hel')\n",
    "else:\n",
    "    print('hal')"
   ]
  },
  {
   "cell_type": "code",
   "execution_count": 19,
   "id": "ca84c891-9151-45f4-bbf9-59dbfa6ee603",
   "metadata": {},
   "outputs": [
    {
     "name": "stdout",
     "output_type": "stream",
     "text": [
      "hel\n"
     ]
    }
   ],
   "source": [
    "if False:\n",
    "    print('hi')\n",
    "elif True:\n",
    "    print('hel')\n",
    "else:\n",
    "    print('hal')"
   ]
  },
  {
   "cell_type": "code",
   "execution_count": 21,
   "id": "494dd6da-b193-447a-88d7-3135d60f29d9",
   "metadata": {},
   "outputs": [
    {
     "name": "stdout",
     "output_type": "stream",
     "text": [
      "hal\n"
     ]
    }
   ],
   "source": [
    "if False:\n",
    "    print('hi')\n",
    "elif False:\n",
    "    print('hel')\n",
    "else:\n",
    "    print('hal')"
   ]
  },
  {
   "cell_type": "code",
   "execution_count": null,
   "id": "5c1cfd3d-440a-478a-9ea3-dcedd0303fd4",
   "metadata": {},
   "outputs": [],
   "source": []
  }
 ],
 "metadata": {
  "kernelspec": {
   "display_name": "Python 3 (ipykernel)",
   "language": "python",
   "name": "python3"
  },
  "language_info": {
   "codemirror_mode": {
    "name": "ipython",
    "version": 3
   },
   "file_extension": ".py",
   "mimetype": "text/x-python",
   "name": "python",
   "nbconvert_exporter": "python",
   "pygments_lexer": "ipython3",
   "version": "3.12.4"
  }
 },
 "nbformat": 4,
 "nbformat_minor": 5
}
