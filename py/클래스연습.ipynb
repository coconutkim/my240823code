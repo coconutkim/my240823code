{
 "cells": [
  {
   "cell_type": "code",
   "execution_count": 13,
   "id": "d132f051-87ec-4aad-a836-2c7cc4e88ad9",
   "metadata": {},
   "outputs": [],
   "source": [
    "# 클래스는 틀이자 설계도이다"
   ]
  },
  {
   "cell_type": "code",
   "execution_count": 15,
   "id": "738ace28-ce28-440c-985a-b0957679e6ce",
   "metadata": {},
   "outputs": [],
   "source": [
    "class Calculator:\n",
    "    def __init__(self):   #객체 생성시 인스턴스 변수를 초기화하는 역할을 하는 함수\n",
    "        self.num1 = 0    #인스턴스(객체) 변수\n",
    "        self.num2 = 0\n",
    "    def add(self, num1,num2):   #칼큘레이터가 가지고 있는 기능 function\n",
    "        self.num1 = num1\n",
    "        self.num2 = num2\n",
    "        return self.num1+self.num2"
   ]
  },
  {
   "cell_type": "code",
   "execution_count": 17,
   "id": "866d7912-925c-483d-b60b-7b08f155999b",
   "metadata": {},
   "outputs": [],
   "source": [
    "mycalc = Calculator()"
   ]
  },
  {
   "cell_type": "code",
   "execution_count": 19,
   "id": "095fcba9-fcf1-4bf1-895c-00a2949b5057",
   "metadata": {},
   "outputs": [],
   "source": [
    "result = mycalc.add(5,6)"
   ]
  },
  {
   "cell_type": "code",
   "execution_count": 21,
   "id": "46289c8e-9e59-4f4c-906d-0b58010fe90e",
   "metadata": {},
   "outputs": [
    {
     "data": {
      "text/plain": [
       "11"
      ]
     },
     "execution_count": 21,
     "metadata": {},
     "output_type": "execute_result"
    }
   ],
   "source": [
    "result"
   ]
  },
  {
   "cell_type": "code",
   "execution_count": 23,
   "id": "c3a7d833-9f8f-4b08-9008-b5a302a1e8b7",
   "metadata": {},
   "outputs": [],
   "source": [
    "#학생\n",
    "#클래스명 스튜던트\n",
    "#인스턴스 변수 네임, 나이\n",
    "#메서드 스터디()"
   ]
  },
  {
   "cell_type": "code",
   "execution_count": 25,
   "id": "fc16b869-6b9c-461c-a9fb-7e5e28354ca9",
   "metadata": {},
   "outputs": [],
   "source": [
    "class Student:\n",
    "    def __init__(self, name, age):\n",
    "        self.name = name\n",
    "        self.age = age\n",
    "    def study(self):\n",
    "        print(f'{self.name} 학생이 나이는 {self.age}살이고 공부를 한다')"
   ]
  },
  {
   "cell_type": "code",
   "execution_count": 27,
   "id": "3cbe6506-ba42-4be9-bb14-23c9faeb0ad7",
   "metadata": {},
   "outputs": [],
   "source": [
    "hong1 = Student('hong',23)"
   ]
  },
  {
   "cell_type": "code",
   "execution_count": 29,
   "id": "1a756c6a-a9b7-4197-88e3-93179b0fcd04",
   "metadata": {},
   "outputs": [
    {
     "data": {
      "text/plain": [
       "'hong'"
      ]
     },
     "execution_count": 29,
     "metadata": {},
     "output_type": "execute_result"
    }
   ],
   "source": [
    "hong1.name"
   ]
  },
  {
   "cell_type": "code",
   "execution_count": 33,
   "id": "d70e274e-a300-42d5-af7a-0a65e7951fb9",
   "metadata": {},
   "outputs": [
    {
     "data": {
      "text/plain": [
       "23"
      ]
     },
     "execution_count": 33,
     "metadata": {},
     "output_type": "execute_result"
    }
   ],
   "source": [
    "hong1.age"
   ]
  },
  {
   "cell_type": "code",
   "execution_count": 37,
   "id": "4fba9c18-4ac6-4ebf-91c7-c19e4fb58531",
   "metadata": {},
   "outputs": [
    {
     "name": "stdout",
     "output_type": "stream",
     "text": [
      "hong 학생이 나이는 23살이고 공부를 한다\n"
     ]
    }
   ],
   "source": [
    "hong1.study()"
   ]
  },
  {
   "cell_type": "code",
   "execution_count": 39,
   "id": "bfcd7f60-75f1-4ff7-914b-166a477dfc88",
   "metadata": {},
   "outputs": [],
   "source": [
    "# 클래스 간에는 3가지 관게(사용,포함,상속)가 있다."
   ]
  },
  {
   "cell_type": "code",
   "execution_count": 41,
   "id": "9296f5f7-ead7-402f-bf9e-e46cdb257837",
   "metadata": {},
   "outputs": [],
   "source": [
    "# 1) 사용 관계\n",
    "# 홍길동이라는 회사원이 결산 보고서 문서를 프린터를 사용해서 출력한다."
   ]
  },
  {
   "cell_type": "code",
   "execution_count": 43,
   "id": "aa466593-0683-40cc-b0dc-5f71db3c516b",
   "metadata": {},
   "outputs": [],
   "source": [
    "# 회사원이라는 틀에서 홍길동 객체를 찍어낸다\n",
    "# 프린터라는 틀에서 레이저 프린터를 생성(만들어보자, 찍어내보자) 해본다"
   ]
  },
  {
   "cell_type": "code",
   "execution_count": 45,
   "id": "7b34ac27-af32-471c-ad19-ee5398b549a4",
   "metadata": {},
   "outputs": [],
   "source": [
    "class Officeworker:\n",
    "    def __init__(self,name):\n",
    "        self.name = name\n",
    "    def work(self):\n",
    "        print(f'{self.name}가 일한다.')\n",
    "    def use_printer(self):\n",
    "        print(f'프린터를 사용해서 문서를 출력한다')"
   ]
  },
  {
   "cell_type": "code",
   "execution_count": 47,
   "id": "ef3ada3d-9de2-4e58-b1b2-fc2c96a08730",
   "metadata": {},
   "outputs": [],
   "source": [
    "class Printer:\n",
    "    def print_document(self,document):\n",
    "        print(f'{document}를 인쇄한다')"
   ]
  },
  {
   "cell_type": "code",
   "execution_count": 49,
   "id": "00715058-dbed-45c4-b9e9-5db299823748",
   "metadata": {},
   "outputs": [],
   "source": [
    "myprinter = Printer()"
   ]
  },
  {
   "cell_type": "code",
   "execution_count": 51,
   "id": "7aa50273-2254-4aff-997a-c3fccc022acc",
   "metadata": {},
   "outputs": [
    {
     "name": "stdout",
     "output_type": "stream",
     "text": [
      "report를 인쇄한다\n"
     ]
    }
   ],
   "source": [
    "myprinter.print_document('report')"
   ]
  },
  {
   "cell_type": "code",
   "execution_count": 57,
   "id": "cb08c844-a203-4d03-bad8-20116acb775c",
   "metadata": {},
   "outputs": [],
   "source": [
    "hong = Officeworker('hong')"
   ]
  },
  {
   "cell_type": "code",
   "execution_count": 59,
   "id": "aa6f17d5-54b0-4e3a-91f1-17aebf17579d",
   "metadata": {},
   "outputs": [
    {
     "data": {
      "text/plain": [
       "'hong'"
      ]
     },
     "execution_count": 59,
     "metadata": {},
     "output_type": "execute_result"
    }
   ],
   "source": [
    "hong.name"
   ]
  },
  {
   "cell_type": "code",
   "execution_count": 63,
   "id": "88419a61-82d3-4dfb-a736-9755a0e03450",
   "metadata": {},
   "outputs": [
    {
     "name": "stdout",
     "output_type": "stream",
     "text": [
      "hong가 일한다.\n"
     ]
    }
   ],
   "source": [
    "hong.work()"
   ]
  },
  {
   "cell_type": "code",
   "execution_count": 65,
   "id": "e44ad7d5-8b00-4ded-b5b8-cbadeade6c0e",
   "metadata": {},
   "outputs": [],
   "source": [
    "class Officer:\n",
    "    def __init__(self,name,time):\n",
    "        self.name = name\n",
    "        self.time = time\n",
    "    def work(self):\n",
    "        print(f'{self.name}이 열일한다')\n",
    "    def yya(self):\n",
    "        print(f'{self.name}이 {self.time}까지 야근한다')"
   ]
  },
  {
   "cell_type": "code",
   "execution_count": 67,
   "id": "42cc2f5c-b80c-4984-8526-e19c6b2f4a02",
   "metadata": {},
   "outputs": [],
   "source": [
    "office = Officer('hong',11)"
   ]
  },
  {
   "cell_type": "code",
   "execution_count": 69,
   "id": "f4f729e2-f02d-4bc5-8171-b785a34e104d",
   "metadata": {},
   "outputs": [
    {
     "data": {
      "text/plain": [
       "'hong'"
      ]
     },
     "execution_count": 69,
     "metadata": {},
     "output_type": "execute_result"
    }
   ],
   "source": [
    "office.name"
   ]
  },
  {
   "cell_type": "code",
   "execution_count": 71,
   "id": "efd75bd7-305c-4e62-acd9-3bf9d8fac0df",
   "metadata": {},
   "outputs": [
    {
     "data": {
      "text/plain": [
       "11"
      ]
     },
     "execution_count": 71,
     "metadata": {},
     "output_type": "execute_result"
    }
   ],
   "source": [
    "office.time"
   ]
  },
  {
   "cell_type": "code",
   "execution_count": 73,
   "id": "ddf3aef1-76bb-4cd2-acf1-0568dbf02732",
   "metadata": {},
   "outputs": [
    {
     "name": "stdout",
     "output_type": "stream",
     "text": [
      "hong이 열일한다\n"
     ]
    }
   ],
   "source": [
    "office.work()"
   ]
  },
  {
   "cell_type": "code",
   "execution_count": 75,
   "id": "45c5f0f7-3304-4c5f-af12-ab338aca150f",
   "metadata": {},
   "outputs": [
    {
     "name": "stdout",
     "output_type": "stream",
     "text": [
      "hong이 11까지 야근한다\n"
     ]
    }
   ],
   "source": [
    "office.yya()"
   ]
  },
  {
   "cell_type": "code",
   "execution_count": 77,
   "id": "8f7faaf6-8010-46a8-a7e1-672b8cc1af90",
   "metadata": {},
   "outputs": [],
   "source": [
    "# 2 포함 관계 클래스 연습"
   ]
  },
  {
   "cell_type": "code",
   "execution_count": 79,
   "id": "9f7e3fcd-815a-445f-9b4a-c569991391ea",
   "metadata": {},
   "outputs": [],
   "source": [
    "#차와 엔진의 관계"
   ]
  },
  {
   "cell_type": "code",
   "execution_count": 81,
   "id": "00d75b69-d998-43cf-b556-3c251366170a",
   "metadata": {},
   "outputs": [],
   "source": [
    "# 차가 만들어질 때 생성될 때 엔진이 초기화 되어야 함"
   ]
  },
  {
   "cell_type": "code",
   "execution_count": 83,
   "id": "334a0eb4-e9bf-4cc8-b77a-6d2180ce72a3",
   "metadata": {},
   "outputs": [],
   "source": [
    "class Car():\n",
    "    def __init__(self):\n",
    "        self.engine = Engine()\n",
    "    def drive(self):\n",
    "        print('차가 달린다')"
   ]
  },
  {
   "cell_type": "code",
   "execution_count": 85,
   "id": "a39617be-df3e-4b6f-8a9d-87c1b703f644",
   "metadata": {},
   "outputs": [],
   "source": [
    "class Engine():\n",
    "    def start(self):\n",
    "        print('엔진이 시작함')"
   ]
  },
  {
   "cell_type": "code",
   "execution_count": 87,
   "id": "ca507541-7f91-4e4f-9713-96f623f5a8f5",
   "metadata": {},
   "outputs": [],
   "source": [
    "mycar = Car()"
   ]
  },
  {
   "cell_type": "code",
   "execution_count": 93,
   "id": "5fb85062-a43a-486e-92ae-f9c7e4c7eff3",
   "metadata": {},
   "outputs": [
    {
     "data": {
      "text/plain": [
       "<__main__.Engine at 0x21162809ac0>"
      ]
     },
     "execution_count": 93,
     "metadata": {},
     "output_type": "execute_result"
    }
   ],
   "source": [
    "mycar.engine"
   ]
  },
  {
   "cell_type": "code",
   "execution_count": 97,
   "id": "ea824624-29af-4a7e-b65b-892d5e5efca2",
   "metadata": {},
   "outputs": [
    {
     "name": "stdout",
     "output_type": "stream",
     "text": [
      "차가 달린다\n"
     ]
    }
   ],
   "source": [
    "mycar.drive()"
   ]
  },
  {
   "cell_type": "code",
   "execution_count": 99,
   "id": "7f4adfff-1c14-4e4b-970d-da84c9d7c74f",
   "metadata": {},
   "outputs": [],
   "source": [
    "fourengine = Engine()"
   ]
  },
  {
   "cell_type": "code",
   "execution_count": 101,
   "id": "47753209-e310-4f48-b06d-7f23142ed675",
   "metadata": {},
   "outputs": [
    {
     "name": "stdout",
     "output_type": "stream",
     "text": [
      "엔진이 시작함\n"
     ]
    }
   ],
   "source": [
    "fourengine.start()"
   ]
  },
  {
   "cell_type": "code",
   "execution_count": 103,
   "id": "da2b1603-1cb8-451f-a671-eae6e422272c",
   "metadata": {},
   "outputs": [],
   "source": [
    "# 연필이 있는 필통"
   ]
  },
  {
   "cell_type": "code",
   "execution_count": 105,
   "id": "951febaa-8dc6-4dcd-a60f-aa64464129ef",
   "metadata": {},
   "outputs": [],
   "source": [
    "class PencilCase:\n",
    "    def __init__(self):\n",
    "        self.pencil = Pencil()"
   ]
  },
  {
   "cell_type": "code",
   "execution_count": 107,
   "id": "e051ea6f-2bfe-4f1d-865f-02e811d12168",
   "metadata": {},
   "outputs": [],
   "source": [
    "class Pencil:\n",
    "    def write(self):\n",
    "        print(\"write\")"
   ]
  },
  {
   "cell_type": "code",
   "execution_count": 109,
   "id": "6110c66e-8b8b-4e61-aefd-d4b88f91da5b",
   "metadata": {},
   "outputs": [],
   "source": [
    "mypencilcase = PencilCase()"
   ]
  },
  {
   "cell_type": "code",
   "execution_count": 111,
   "id": "6df38987-f7bb-41f5-a645-2a6dab1f7e62",
   "metadata": {},
   "outputs": [
    {
     "data": {
      "text/plain": [
       "<__main__.Pencil at 0x211625b09e0>"
      ]
     },
     "execution_count": 111,
     "metadata": {},
     "output_type": "execute_result"
    }
   ],
   "source": [
    "mypencilcase.pencil"
   ]
  },
  {
   "cell_type": "code",
   "execution_count": 113,
   "id": "dea63c1e-b19e-40fa-a9ec-58728052e632",
   "metadata": {},
   "outputs": [
    {
     "name": "stdout",
     "output_type": "stream",
     "text": [
      "write\n"
     ]
    }
   ],
   "source": [
    "mypencilcase.pencil.write()"
   ]
  },
  {
   "cell_type": "code",
   "execution_count": 115,
   "id": "1416c7f3-1df8-4a6b-96b2-c6cc2e18de22",
   "metadata": {},
   "outputs": [],
   "source": [
    "# 3 상속 관계 (is 관계, 자식클래스는 부모클래스이다)"
   ]
  },
  {
   "cell_type": "code",
   "execution_count": 117,
   "id": "a8ad121b-94b8-4ce3-a47b-602f7efd7211",
   "metadata": {},
   "outputs": [],
   "source": [
    "# 부모 상위 클래스\n",
    "# 자식 하위 클래스"
   ]
  },
  {
   "cell_type": "code",
   "execution_count": 119,
   "id": "400e18f6-b65b-40d3-80c4-65bf6949ea81",
   "metadata": {},
   "outputs": [],
   "source": [
    "# 고양이는 동물이다\n",
    "# 강아지는 동물이다"
   ]
  },
  {
   "cell_type": "code",
   "execution_count": 121,
   "id": "0003cb2a-4308-4b4b-956a-b3c930abe034",
   "metadata": {},
   "outputs": [],
   "source": [
    "class Animal:\n",
    "    def __init__(self,color):\n",
    "        self.color = color\n",
    "    def breathe(self):\n",
    "        print('breath.')"
   ]
  },
  {
   "cell_type": "code",
   "execution_count": 123,
   "id": "b694d871-aec6-4bcb-9b79-a17da86cd95d",
   "metadata": {},
   "outputs": [],
   "source": [
    "class Cat(Animal):\n",
    "    pass"
   ]
  },
  {
   "cell_type": "code",
   "execution_count": 125,
   "id": "a0d25d00-e9c0-4d1a-89d9-8f20ba6b44a6",
   "metadata": {},
   "outputs": [],
   "source": [
    "bumbee = Cat('black')"
   ]
  },
  {
   "cell_type": "code",
   "execution_count": 129,
   "id": "b1688e26-b4af-4ba0-8053-c8cc315b7fb6",
   "metadata": {},
   "outputs": [
    {
     "data": {
      "text/plain": [
       "'black'"
      ]
     },
     "execution_count": 129,
     "metadata": {},
     "output_type": "execute_result"
    }
   ],
   "source": [
    "bumbee.color"
   ]
  },
  {
   "cell_type": "code",
   "execution_count": 133,
   "id": "3bdb4670-6035-4176-a99c-fca4979c1432",
   "metadata": {},
   "outputs": [],
   "source": [
    "percat = Cat('white')"
   ]
  },
  {
   "cell_type": "code",
   "execution_count": 135,
   "id": "5513ac73-0c70-4f7a-8d95-e028ea5193a8",
   "metadata": {},
   "outputs": [
    {
     "data": {
      "text/plain": [
       "'white'"
      ]
     },
     "execution_count": 135,
     "metadata": {},
     "output_type": "execute_result"
    }
   ],
   "source": [
    "percat.color"
   ]
  },
  {
   "cell_type": "code",
   "execution_count": 137,
   "id": "4d2dbe17-06ea-4867-ac7a-12561e663eed",
   "metadata": {},
   "outputs": [],
   "source": [
    "class Dog(Animal):\n",
    "    pass"
   ]
  },
  {
   "cell_type": "code",
   "execution_count": 139,
   "id": "91219959-a9ca-4872-87f1-574b34338a74",
   "metadata": {},
   "outputs": [],
   "source": [
    "mal = Dog('beige')"
   ]
  },
  {
   "cell_type": "code",
   "execution_count": 141,
   "id": "e4309723-c06d-4938-84dd-f54332bc42ea",
   "metadata": {},
   "outputs": [
    {
     "data": {
      "text/plain": [
       "'beige'"
      ]
     },
     "execution_count": 141,
     "metadata": {},
     "output_type": "execute_result"
    }
   ],
   "source": [
    "mal.color"
   ]
  },
  {
   "cell_type": "code",
   "execution_count": 173,
   "id": "b4ea4ad8-b8ce-43a2-8d0d-04a9719bcc8f",
   "metadata": {},
   "outputs": [],
   "source": [
    "class Calculator:\n",
    "    def __init__(self):   #객체 생성시 인스턴스 변수를 초기화하는 역할을 하는 함수\n",
    "        self.num1 = 0    #인스턴스(객체) 변수\n",
    "        self.num2 = 0\n",
    "    def multiply(self, num1,num2):   #칼큘레이터가 가지고 있는 기능 function\n",
    "        self.num1 = num1\n",
    "        self.num2 = num2\n",
    "        return self.num1*self.num2"
   ]
  },
  {
   "cell_type": "code",
   "execution_count": 175,
   "id": "87249548-5381-4970-bedf-21203c2c0d50",
   "metadata": {},
   "outputs": [],
   "source": [
    "cal = Calculator()"
   ]
  },
  {
   "cell_type": "code",
   "execution_count": 177,
   "id": "35aaa4f8-6782-46ab-9139-0813c87355eb",
   "metadata": {},
   "outputs": [],
   "source": [
    "result = cal.multiply(5,6)"
   ]
  },
  {
   "cell_type": "code",
   "execution_count": 179,
   "id": "d85f3625-6b04-45f7-b5d8-c97184a08469",
   "metadata": {},
   "outputs": [
    {
     "data": {
      "text/plain": [
       "30"
      ]
     },
     "execution_count": 179,
     "metadata": {},
     "output_type": "execute_result"
    }
   ],
   "source": [
    "result"
   ]
  },
  {
   "cell_type": "code",
   "execution_count": 181,
   "id": "71847a49-6b7a-4bc8-9f5a-b976b9d15fa2",
   "metadata": {},
   "outputs": [],
   "source": [
    "class Calculator:\n",
    "    def __init__(self):   #객체 생성시 인스턴스 변수를 초기화하는 역할을 하는 함수\n",
    "        self.num1 = 0    #인스턴스(객체) 변수\n",
    "        self.num2 = 0\n",
    "    def divide(self, num1,num2):   #칼큘레이터가 가지고 있는 기능 function\n",
    "        self.num1 = num1\n",
    "        self.num2 = num2\n",
    "        return self.num1/self.num2"
   ]
  },
  {
   "cell_type": "code",
   "execution_count": 183,
   "id": "23cec987-e383-443d-95ed-127f97bf58b4",
   "metadata": {},
   "outputs": [],
   "source": [
    "cal2 = Calculator()"
   ]
  },
  {
   "cell_type": "code",
   "execution_count": 185,
   "id": "7b3ba078-db25-4996-97be-273187340bda",
   "metadata": {},
   "outputs": [
    {
     "data": {
      "text/plain": [
       "0.6666666666666666"
      ]
     },
     "execution_count": 185,
     "metadata": {},
     "output_type": "execute_result"
    }
   ],
   "source": [
    "cal2.divide(6,9)"
   ]
  },
  {
   "cell_type": "code",
   "execution_count": 189,
   "id": "ff6d6094-558c-4b14-87b9-62555002c3df",
   "metadata": {},
   "outputs": [],
   "source": [
    "class Calculator:\n",
    "    def __init__(self):   #객체 생성시 인스턴스 변수를 초기화하는 역할을 하는 함수\n",
    "        self.num1 = 0    #인스턴스(객체) 변수\n",
    "        self.num2 = 0\n",
    "    def add(self, num1,num2):   #칼큘레이터가 가지고 있는 기능 function\n",
    "        self.num1 = num1\n",
    "        self.num2 = num2\n",
    "        return self.num1+self.num2\n",
    "    def subtract(self, num1,num2):   #칼큘레이터가 가지고 있는 기능 function\n",
    "        self.num1 = num1\n",
    "        self.num2 = num2\n",
    "        return self.num1-self.num2\n",
    "    def multiply(self, num1,num2):   #칼큘레이터가 가지고 있는 기능 function\n",
    "        self.num1 = num1\n",
    "        self.num2 = num2\n",
    "        return self.num1*self.num2\n",
    "    def divide(self, num1,num2):   #칼큘레이터가 가지고 있는 기능 function\n",
    "        self.num1 = num1\n",
    "        self.num2 = num2\n",
    "        return self.num1/self.num2"
   ]
  },
  {
   "cell_type": "code",
   "execution_count": 191,
   "id": "f723fe2a-d047-461b-b0c3-2426b5b45fe8",
   "metadata": {},
   "outputs": [],
   "source": [
    "calc = Calculator()"
   ]
  },
  {
   "cell_type": "code",
   "execution_count": 193,
   "id": "ac0d1ea9-c589-4da0-bd1e-6df61dfcc5c8",
   "metadata": {},
   "outputs": [
    {
     "name": "stdout",
     "output_type": "stream",
     "text": [
      "add result is 5\n",
      "minus result is -1\n",
      "multiple result is 6\n",
      "nanugee result is 0.6666666666666666\n"
     ]
    }
   ],
   "source": [
    "print(f'add result is {calc.add(2,3)}')\n",
    "print(f'minus result is {calc.subtract(2,3)}')\n",
    "print(f'multiple result is {calc.multiply(2,3)}')\n",
    "print(f'nanugee result is {calc.divide(2,3)}')"
   ]
  },
  {
   "cell_type": "code",
   "execution_count": 195,
   "id": "73359b48-33be-4032-8397-17feabe21165",
   "metadata": {},
   "outputs": [],
   "source": [
    "# 계산기 버전 2"
   ]
  },
  {
   "cell_type": "code",
   "execution_count": 197,
   "id": "8f68abbe-f719-4202-869d-99b4514a3e0f",
   "metadata": {},
   "outputs": [],
   "source": [
    "class Calculator:\n",
    "    def __init__(self,num1,num2):   #객체 생성시 인스턴스 변수를 초기화하는 역할을 하는 함수\n",
    "        self.num1 = num1    #인스턴스(객체) 변수\n",
    "        self.num2 = num2\n",
    "    def add(self):   #칼큘레이터가 가지고 있는 기능 function\n",
    "        return self.num1+self.num2\n",
    "    def subtract(self):   #칼큘레이터가 가지고 있는 기능 function\n",
    "        return self.num1-self.num2\n",
    "    def multiply(self):   #칼큘레이터가 가지고 있는 기능 function\n",
    "        return self.num1*self.num2\n",
    "    def divide(self):   #칼큘레이터가 가지고 있는 기능 function\n",
    "        return self.num1/self.num2"
   ]
  },
  {
   "cell_type": "code",
   "execution_count": 201,
   "id": "0732c1bb-09fa-4bfa-b29d-127a9364e095",
   "metadata": {},
   "outputs": [],
   "source": [
    "mycalc2 = Calculator(3,6)"
   ]
  },
  {
   "cell_type": "code",
   "execution_count": 203,
   "id": "524a826e-886f-444d-93e8-ff385f521d3b",
   "metadata": {},
   "outputs": [
    {
     "name": "stdout",
     "output_type": "stream",
     "text": [
      "add result is 9\n",
      "minus result is -3\n",
      "multiple result is 18\n",
      "nanugee result is 0.5\n"
     ]
    }
   ],
   "source": [
    "print(f'add result is {mycalc2.add()}')\n",
    "print(f'minus result is {mycalc2.subtract()}')\n",
    "print(f'multiple result is {mycalc2.multiply()}')\n",
    "print(f'nanugee result is {mycalc2.divide()}')"
   ]
  },
  {
   "cell_type": "code",
   "execution_count": 205,
   "id": "0002cbc9-ac09-4b6a-a373-5b582a6ce5d7",
   "metadata": {},
   "outputs": [
    {
     "ename": "ZeroDivisionError",
     "evalue": "division by zero",
     "output_type": "error",
     "traceback": [
      "\u001b[1;31m---------------------------------------------------------------------------\u001b[0m",
      "\u001b[1;31mZeroDivisionError\u001b[0m                         Traceback (most recent call last)",
      "Cell \u001b[1;32mIn[205], line 1\u001b[0m\n\u001b[1;32m----> 1\u001b[0m \u001b[38;5;241m3\u001b[39m\u001b[38;5;241m/\u001b[39m\u001b[38;5;241m0\u001b[39m\n",
      "\u001b[1;31mZeroDivisionError\u001b[0m: division by zero"
     ]
    }
   ],
   "source": [
    "3/0"
   ]
  },
  {
   "cell_type": "code",
   "execution_count": 207,
   "id": "b9f580ef-4d75-489c-a0b7-5ba316405c3e",
   "metadata": {},
   "outputs": [
    {
     "data": {
      "text/plain": [
       "0.0"
      ]
     },
     "execution_count": 207,
     "metadata": {},
     "output_type": "execute_result"
    }
   ],
   "source": [
    "0/3"
   ]
  },
  {
   "cell_type": "code",
   "execution_count": 209,
   "id": "5bc2c4b0-d243-4cb0-988e-392f04fb17eb",
   "metadata": {},
   "outputs": [],
   "source": [
    "mycalc3 = Calculator(3,0)"
   ]
  },
  {
   "cell_type": "code",
   "execution_count": 211,
   "id": "3eeb5e4a-addf-4fc1-bd48-418320d6c554",
   "metadata": {},
   "outputs": [
    {
     "ename": "ZeroDivisionError",
     "evalue": "division by zero",
     "output_type": "error",
     "traceback": [
      "\u001b[1;31m---------------------------------------------------------------------------\u001b[0m",
      "\u001b[1;31mZeroDivisionError\u001b[0m                         Traceback (most recent call last)",
      "Cell \u001b[1;32mIn[211], line 1\u001b[0m\n\u001b[1;32m----> 1\u001b[0m mycalc3\u001b[38;5;241m.\u001b[39mdivide()\n",
      "Cell \u001b[1;32mIn[197], line 12\u001b[0m, in \u001b[0;36mCalculator.divide\u001b[1;34m(self)\u001b[0m\n\u001b[0;32m     11\u001b[0m \u001b[38;5;28;01mdef\u001b[39;00m \u001b[38;5;21mdivide\u001b[39m(\u001b[38;5;28mself\u001b[39m):   \u001b[38;5;66;03m#칼큘레이터가 가지고 있는 기능 function\u001b[39;00m\n\u001b[1;32m---> 12\u001b[0m     \u001b[38;5;28;01mreturn\u001b[39;00m \u001b[38;5;28mself\u001b[39m\u001b[38;5;241m.\u001b[39mnum1\u001b[38;5;241m/\u001b[39m\u001b[38;5;28mself\u001b[39m\u001b[38;5;241m.\u001b[39mnum2\n",
      "\u001b[1;31mZeroDivisionError\u001b[0m: division by zero"
     ]
    }
   ],
   "source": [
    "mycalc3.divide()"
   ]
  },
  {
   "cell_type": "code",
   "execution_count": 213,
   "id": "e95f8d4c-a26b-4538-ba44-4702a778acb0",
   "metadata": {},
   "outputs": [],
   "source": [
    "# 계산기 자식 클래스 만들기"
   ]
  },
  {
   "cell_type": "code",
   "execution_count": 215,
   "id": "8e189d2c-6b5c-4cf3-ac9f-56c9d410decf",
   "metadata": {},
   "outputs": [],
   "source": [
    "class Safecalcu(Calculator):\n",
    "    pass"
   ]
  },
  {
   "cell_type": "code",
   "execution_count": 217,
   "id": "55ea89d0-08ae-4f10-85b8-a651c8d0f285",
   "metadata": {},
   "outputs": [],
   "source": [
    "mysafe = Safecalcu(3,0)"
   ]
  },
  {
   "cell_type": "code",
   "execution_count": 219,
   "id": "ab19de03-59ae-4d66-9839-9025238108b8",
   "metadata": {},
   "outputs": [
    {
     "data": {
      "text/plain": [
       "3"
      ]
     },
     "execution_count": 219,
     "metadata": {},
     "output_type": "execute_result"
    }
   ],
   "source": [
    "mysafe.add()"
   ]
  },
  {
   "cell_type": "code",
   "execution_count": 225,
   "id": "f9c00053-373c-4788-ba60-6a7ec7741aac",
   "metadata": {},
   "outputs": [
    {
     "data": {
      "text/plain": [
       "3"
      ]
     },
     "execution_count": 225,
     "metadata": {},
     "output_type": "execute_result"
    }
   ],
   "source": [
    "mysafe.subtract()"
   ]
  },
  {
   "cell_type": "code",
   "execution_count": 229,
   "id": "f56ca75d-dcd4-42c8-8d7c-3336421c5bd8",
   "metadata": {},
   "outputs": [
    {
     "data": {
      "text/plain": [
       "0"
      ]
     },
     "execution_count": 229,
     "metadata": {},
     "output_type": "execute_result"
    }
   ],
   "source": [
    "mysafe.multiply()"
   ]
  },
  {
   "cell_type": "code",
   "execution_count": 231,
   "id": "eed99ffd-933c-4be5-8dc0-91c4311dd0b5",
   "metadata": {},
   "outputs": [
    {
     "ename": "ZeroDivisionError",
     "evalue": "division by zero",
     "output_type": "error",
     "traceback": [
      "\u001b[1;31m---------------------------------------------------------------------------\u001b[0m",
      "\u001b[1;31mZeroDivisionError\u001b[0m                         Traceback (most recent call last)",
      "Cell \u001b[1;32mIn[231], line 1\u001b[0m\n\u001b[1;32m----> 1\u001b[0m mysafe\u001b[38;5;241m.\u001b[39mdivide()\n",
      "Cell \u001b[1;32mIn[197], line 12\u001b[0m, in \u001b[0;36mCalculator.divide\u001b[1;34m(self)\u001b[0m\n\u001b[0;32m     11\u001b[0m \u001b[38;5;28;01mdef\u001b[39;00m \u001b[38;5;21mdivide\u001b[39m(\u001b[38;5;28mself\u001b[39m):   \u001b[38;5;66;03m#칼큘레이터가 가지고 있는 기능 function\u001b[39;00m\n\u001b[1;32m---> 12\u001b[0m     \u001b[38;5;28;01mreturn\u001b[39;00m \u001b[38;5;28mself\u001b[39m\u001b[38;5;241m.\u001b[39mnum1\u001b[38;5;241m/\u001b[39m\u001b[38;5;28mself\u001b[39m\u001b[38;5;241m.\u001b[39mnum2\n",
      "\u001b[1;31mZeroDivisionError\u001b[0m: division by zero"
     ]
    }
   ],
   "source": [
    "mysafe.divide()"
   ]
  },
  {
   "cell_type": "code",
   "execution_count": 233,
   "id": "22a72088-b259-41f4-9f2a-4cc2c4779218",
   "metadata": {},
   "outputs": [],
   "source": [
    "# 부모가 정의한 디바이드()를 재정의 (override)해야 하는 상황"
   ]
  },
  {
   "cell_type": "code",
   "execution_count": 235,
   "id": "231ad522-f844-425f-bb55-523854ad5123",
   "metadata": {},
   "outputs": [],
   "source": [
    "class Safecalcu(Calculator):\n",
    "    def divide(self):\n",
    "        if self.num2 ==0:\n",
    "            print('0으로 나누지 말라니까')\n",
    "        else:\n",
    "            return self.num1 /self.num2"
   ]
  },
  {
   "cell_type": "code",
   "execution_count": 237,
   "id": "64f109ad-3449-4ed6-ad85-3b61f55019ef",
   "metadata": {},
   "outputs": [],
   "source": [
    "mysafe = Safecalcu(3,0)"
   ]
  },
  {
   "cell_type": "code",
   "execution_count": 239,
   "id": "0df6e0be-06c1-4bca-877a-651abb695bfb",
   "metadata": {},
   "outputs": [
    {
     "data": {
      "text/plain": [
       "3"
      ]
     },
     "execution_count": 239,
     "metadata": {},
     "output_type": "execute_result"
    }
   ],
   "source": [
    "mysafe.num1"
   ]
  },
  {
   "cell_type": "code",
   "execution_count": 241,
   "id": "20523877-1e3a-4c19-bb2d-4adc1ce78c19",
   "metadata": {},
   "outputs": [
    {
     "data": {
      "text/plain": [
       "0"
      ]
     },
     "execution_count": 241,
     "metadata": {},
     "output_type": "execute_result"
    }
   ],
   "source": [
    "mysafe.num2"
   ]
  },
  {
   "cell_type": "code",
   "execution_count": 245,
   "id": "dbb0a8f2-0608-44c1-b00d-7d5ed3ce7685",
   "metadata": {},
   "outputs": [
    {
     "name": "stdout",
     "output_type": "stream",
     "text": [
      "0으로 나누지 말라니까\n"
     ]
    }
   ],
   "source": [
    "mysafe.divide()"
   ]
  },
  {
   "cell_type": "code",
   "execution_count": null,
   "id": "066e379f-1a01-4359-a4f2-a08620db041c",
   "metadata": {},
   "outputs": [],
   "source": []
  }
 ],
 "metadata": {
  "kernelspec": {
   "display_name": "Python 3 (ipykernel)",
   "language": "python",
   "name": "python3"
  },
  "language_info": {
   "codemirror_mode": {
    "name": "ipython",
    "version": 3
   },
   "file_extension": ".py",
   "mimetype": "text/x-python",
   "name": "python",
   "nbconvert_exporter": "python",
   "pygments_lexer": "ipython3",
   "version": "3.12.4"
  }
 },
 "nbformat": 4,
 "nbformat_minor": 5
}
