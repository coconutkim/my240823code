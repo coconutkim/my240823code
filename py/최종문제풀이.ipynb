{
 "cells": [
  {
   "cell_type": "code",
   "execution_count": 1,
   "id": "07ca7fd6-aa24-427b-9780-ba666365b37e",
   "metadata": {},
   "outputs": [],
   "source": [
    "def f1():\n",
    "    # 지역변수(local variable)\n",
    "    num1 = 5\n",
    "    print(num1)"
   ]
  },
  {
   "cell_type": "code",
   "execution_count": 3,
   "id": "17a00a1e-1409-4899-a869-f2aff238bd84",
   "metadata": {},
   "outputs": [
    {
     "name": "stdout",
     "output_type": "stream",
     "text": [
      "5\n"
     ]
    }
   ],
   "source": [
    "f1()"
   ]
  },
  {
   "cell_type": "code",
   "execution_count": 13,
   "id": "a30b8b8a-3c21-4327-a359-4150daa212d7",
   "metadata": {},
   "outputs": [],
   "source": [
    "a = 3\n",
    "def f1():\n",
    "    # 지역변수(local variable)\n",
    "    num1 = 8\n",
    "    print(num1)"
   ]
  },
  {
   "cell_type": "code",
   "execution_count": 7,
   "id": "03756577-78d6-429c-9062-0fb9a1671b07",
   "metadata": {},
   "outputs": [
    {
     "data": {
      "text/plain": [
       "3"
      ]
     },
     "execution_count": 7,
     "metadata": {},
     "output_type": "execute_result"
    }
   ],
   "source": [
    "a"
   ]
  },
  {
   "cell_type": "code",
   "execution_count": 15,
   "id": "a63b2a10-7c5a-4327-a3be-b74833bdff3d",
   "metadata": {},
   "outputs": [
    {
     "name": "stdout",
     "output_type": "stream",
     "text": [
      "8\n"
     ]
    }
   ],
   "source": [
    "f1()"
   ]
  },
  {
   "cell_type": "code",
   "execution_count": null,
   "id": "71619ad6-0a0f-4ac1-826d-29f2b4b068b6",
   "metadata": {},
   "outputs": [],
   "source": [
    "a = 3\n",
    "def f1():\n",
    "    print(a)\n",
    "f1"
   ]
  }
 ],
 "metadata": {
  "kernelspec": {
   "display_name": "Python 3 (ipykernel)",
   "language": "python",
   "name": "python3"
  },
  "language_info": {
   "codemirror_mode": {
    "name": "ipython",
    "version": 3
   },
   "file_extension": ".py",
   "mimetype": "text/x-python",
   "name": "python",
   "nbconvert_exporter": "python",
   "pygments_lexer": "ipython3",
   "version": "3.12.4"
  }
 },
 "nbformat": 4,
 "nbformat_minor": 5
}
