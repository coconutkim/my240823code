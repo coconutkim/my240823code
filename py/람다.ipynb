{
 "cells": [
  {
   "cell_type": "code",
   "execution_count": 1,
   "id": "6b0b3367-1433-431d-8101-5624030f256b",
   "metadata": {},
   "outputs": [],
   "source": [
    "def f():\n",
    "    print('4 dollar')"
   ]
  },
  {
   "cell_type": "code",
   "execution_count": 3,
   "id": "070c8ac1-55bd-4e97-a71d-bc48145287e1",
   "metadata": {},
   "outputs": [
    {
     "name": "stdout",
     "output_type": "stream",
     "text": [
      "4 dollar\n"
     ]
    }
   ],
   "source": [
    "f()"
   ]
  },
  {
   "cell_type": "code",
   "execution_count": null,
   "id": "93f9ef79-4205-469c-b401-b095280b59c9",
   "metadata": {},
   "outputs": [],
   "source": [
    "def f(money):"
   ]
  },
  {
   "cell_type": "code",
   "execution_count": 1,
   "id": "80165917-0920-4f9d-b9be-484960a00305",
   "metadata": {},
   "outputs": [],
   "source": [
    "f1 = lambda: print('hi')"
   ]
  },
  {
   "cell_type": "code",
   "execution_count": 5,
   "id": "a846d726-3963-4119-9142-57af80293d98",
   "metadata": {},
   "outputs": [
    {
     "name": "stdout",
     "output_type": "stream",
     "text": [
      "hi\n"
     ]
    }
   ],
   "source": [
    "f1()"
   ]
  },
  {
   "cell_type": "code",
   "execution_count": 7,
   "id": "298562e0-6d1d-49d4-bbdb-3031b73174ed",
   "metadata": {},
   "outputs": [],
   "source": [
    "f2 = lambda gift:print(gift)"
   ]
  },
  {
   "cell_type": "code",
   "execution_count": 9,
   "id": "0f2cc4d0-feee-4b02-a74e-230ca8fe06bf",
   "metadata": {},
   "outputs": [
    {
     "name": "stdout",
     "output_type": "stream",
     "text": [
      "candy\n"
     ]
    }
   ],
   "source": [
    "f2('candy')"
   ]
  },
  {
   "cell_type": "code",
   "execution_count": 11,
   "id": "7df58701-d8d0-4a49-8159-439c0a8acfcb",
   "metadata": {},
   "outputs": [],
   "source": [
    "f3 = lambda:'choco'"
   ]
  },
  {
   "cell_type": "code",
   "execution_count": 13,
   "id": "3ab083d6-8fa4-4227-8e5b-dbdffc26e38b",
   "metadata": {},
   "outputs": [
    {
     "data": {
      "text/plain": [
       "'choco'"
      ]
     },
     "execution_count": 13,
     "metadata": {},
     "output_type": "execute_result"
    }
   ],
   "source": [
    "f3()"
   ]
  },
  {
   "cell_type": "code",
   "execution_count": 123,
   "id": "e44d8a46-9b26-4767-96cf-3ac2994648bb",
   "metadata": {},
   "outputs": [],
   "source": [
    "f4 = lambda gift:'choco'"
   ]
  },
  {
   "cell_type": "code",
   "execution_count": 125,
   "id": "fe463b4a-2c37-4d72-bac2-8bbd98a6987c",
   "metadata": {},
   "outputs": [
    {
     "data": {
      "text/plain": [
       "'choco'"
      ]
     },
     "execution_count": 125,
     "metadata": {},
     "output_type": "execute_result"
    }
   ],
   "source": [
    "f4('candy')"
   ]
  },
  {
   "cell_type": "code",
   "execution_count": 21,
   "id": "9969e755-b855-4c1f-a606-93055cda4311",
   "metadata": {},
   "outputs": [
    {
     "name": "stdout",
     "output_type": "stream",
     "text": [
      "hi\n",
      "<class 'function'>\n"
     ]
    }
   ],
   "source": [
    "def f(): # 없없 : 매개변수 없고 리턴 없고\n",
    "    print()\n",
    "f = lambda : print()\n",
    "\n",
    "def f(): # 없있\n",
    "    return None\n",
    "f = lambda : None # 기본적으로 값이 있으면 리턴한다.\n",
    "\n",
    "def f(v): # 있없\n",
    "    print(v)\n",
    "f = lambda v : print(v)\n",
    "\n",
    "def f(v): # 있있\n",
    "    return v\n",
    "f = lambda v : v\n",
    "\n",
    "print(f('hi'))\n",
    "print(type(f))\n"
   ]
  },
  {
   "cell_type": "code",
   "execution_count": 39,
   "id": "5fad84ed-3142-422b-a4e5-420c3fcafabc",
   "metadata": {},
   "outputs": [],
   "source": [
    "def f1():\n",
    "    print('hi')"
   ]
  },
  {
   "cell_type": "code",
   "execution_count": 41,
   "id": "8317b9ca-f591-46d0-87e0-6c691785fbc0",
   "metadata": {},
   "outputs": [
    {
     "data": {
      "text/plain": [
       "<map at 0x1fec2060580>"
      ]
     },
     "execution_count": 41,
     "metadata": {},
     "output_type": "execute_result"
    }
   ],
   "source": [
    "map(f1,[1,2,3])"
   ]
  },
  {
   "cell_type": "code",
   "execution_count": 43,
   "id": "337d1ecb-23a5-4da2-b5f2-744fac4d986a",
   "metadata": {},
   "outputs": [
    {
     "data": {
      "text/plain": [
       "map"
      ]
     },
     "execution_count": 43,
     "metadata": {},
     "output_type": "execute_result"
    }
   ],
   "source": [
    "type(map(f1,[1,2,3]))"
   ]
  },
  {
   "cell_type": "code",
   "execution_count": 45,
   "id": "8c3b0525-a0ae-4e90-a5eb-05449e9200c2",
   "metadata": {},
   "outputs": [],
   "source": [
    "def f1(num):\n",
    "    return num+1"
   ]
  },
  {
   "cell_type": "code",
   "execution_count": 47,
   "id": "612e1d98-71f1-4c1c-b988-99236659c85c",
   "metadata": {},
   "outputs": [
    {
     "data": {
      "text/plain": [
       "<map at 0x1fec2060cd0>"
      ]
     },
     "execution_count": 47,
     "metadata": {},
     "output_type": "execute_result"
    }
   ],
   "source": [
    "map(f1, [1,2,3])"
   ]
  },
  {
   "cell_type": "code",
   "execution_count": 49,
   "id": "2de17b39-de17-4dc0-abd7-7a467eae0d4b",
   "metadata": {},
   "outputs": [
    {
     "data": {
      "text/plain": [
       "[2, 3, 4]"
      ]
     },
     "execution_count": 49,
     "metadata": {},
     "output_type": "execute_result"
    }
   ],
   "source": [
    "list(map(f1, [1,2,3]))"
   ]
  },
  {
   "cell_type": "code",
   "execution_count": 51,
   "id": "fd5390a0-f152-458a-9251-b22bae1adbdd",
   "metadata": {},
   "outputs": [
    {
     "data": {
      "text/plain": [
       "<map at 0x1fec2060790>"
      ]
     },
     "execution_count": 51,
     "metadata": {},
     "output_type": "execute_result"
    }
   ],
   "source": [
    "map(lambda x:x+1,[1,2,3])"
   ]
  },
  {
   "cell_type": "code",
   "execution_count": 53,
   "id": "f0a1f869-d27f-4d08-ac74-db05e0da7280",
   "metadata": {},
   "outputs": [
    {
     "data": {
      "text/plain": [
       "[2, 3, 4]"
      ]
     },
     "execution_count": 53,
     "metadata": {},
     "output_type": "execute_result"
    }
   ],
   "source": [
    "list(map(lambda x:x+1,[1,2,3]))"
   ]
  },
  {
   "cell_type": "code",
   "execution_count": 55,
   "id": "ae4d01f1-6650-47ca-a13f-cfb4c61ca92d",
   "metadata": {},
   "outputs": [],
   "source": [
    "# 리턴의 정확힌 의미: 반환하고 종료한다"
   ]
  },
  {
   "cell_type": "code",
   "execution_count": 57,
   "id": "a0e0d755-c0fd-4c21-9daf-bd742b057922",
   "metadata": {},
   "outputs": [],
   "source": [
    "def return_func():\n",
    "    return"
   ]
  },
  {
   "cell_type": "code",
   "execution_count": 61,
   "id": "8d9dd4e0-4def-4c0c-b078-dfd413ca4b3a",
   "metadata": {},
   "outputs": [],
   "source": [
    "result = return_func()"
   ]
  },
  {
   "cell_type": "raw",
   "id": "18883bbe-897d-416c-965d-aa24f80de25f",
   "metadata": {},
   "source": [
    "print(result)"
   ]
  },
  {
   "cell_type": "code",
   "execution_count": 63,
   "id": "d83751d5-1e99-4cca-b8d1-4c12694f71ef",
   "metadata": {},
   "outputs": [],
   "source": [
    "def return_func(x):\n",
    "    return x\n",
    "    return 'hi'"
   ]
  },
  {
   "cell_type": "code",
   "execution_count": 65,
   "id": "e3e25758-11a0-4d6f-ae0e-88b542f42d5a",
   "metadata": {},
   "outputs": [
    {
     "data": {
      "text/plain": [
       "5"
      ]
     },
     "execution_count": 65,
     "metadata": {},
     "output_type": "execute_result"
    }
   ],
   "source": [
    "return_func(5)"
   ]
  },
  {
   "cell_type": "code",
   "execution_count": 71,
   "id": "b6c1a5e5-eb6f-4e01-bd45-cf8d3b95d271",
   "metadata": {},
   "outputs": [],
   "source": [
    "def return_func2(x):\n",
    "    print('###1')\n",
    "    yield x\n",
    "    print('###2')\n",
    "    x = x+1\n",
    "    yield x\n",
    "    print('###3')\n",
    "    x = x+1\n",
    "    yield x"
   ]
  },
  {
   "cell_type": "code",
   "execution_count": 73,
   "id": "bfd97b31-f5ae-4315-8519-f9e45034991c",
   "metadata": {},
   "outputs": [
    {
     "data": {
      "text/plain": [
       "<generator object return_func2 at 0x000001FEBF5359C0>"
      ]
     },
     "execution_count": 73,
     "metadata": {},
     "output_type": "execute_result"
    }
   ],
   "source": [
    "return_func2(1)"
   ]
  },
  {
   "cell_type": "code",
   "execution_count": 75,
   "id": "df571382-dce7-4825-a240-963666970392",
   "metadata": {},
   "outputs": [
    {
     "name": "stdout",
     "output_type": "stream",
     "text": [
      "###1\n",
      "1\n",
      "###2\n",
      "2\n",
      "###3\n",
      "3\n"
     ]
    }
   ],
   "source": [
    "for i in return_func2(1):\n",
    "    print(i)"
   ]
  },
  {
   "cell_type": "code",
   "execution_count": 77,
   "id": "2136091c-6d89-4420-8399-e8e3184d5ba7",
   "metadata": {},
   "outputs": [
    {
     "name": "stdout",
     "output_type": "stream",
     "text": [
      "Help on class map in module builtins:\n",
      "\n",
      "class map(object)\n",
      " |  map(func, *iterables) --> map object\n",
      " |\n",
      " |  Make an iterator that computes the function using arguments from\n",
      " |  each of the iterables.  Stops when the shortest iterable is exhausted.\n",
      " |\n",
      " |  Methods defined here:\n",
      " |\n",
      " |  __getattribute__(self, name, /)\n",
      " |      Return getattr(self, name).\n",
      " |\n",
      " |  __iter__(self, /)\n",
      " |      Implement iter(self).\n",
      " |\n",
      " |  __next__(self, /)\n",
      " |      Implement next(self).\n",
      " |\n",
      " |  __reduce__(...)\n",
      " |      Return state information for pickling.\n",
      " |\n",
      " |  ----------------------------------------------------------------------\n",
      " |  Static methods defined here:\n",
      " |\n",
      " |  __new__(*args, **kwargs)\n",
      " |      Create and return a new object.  See help(type) for accurate signature.\n",
      "\n"
     ]
    }
   ],
   "source": [
    "help(map)"
   ]
  },
  {
   "cell_type": "code",
   "execution_count": 79,
   "id": "1d749ce6-8571-4b92-92e1-d5c77633ded8",
   "metadata": {},
   "outputs": [
    {
     "data": {
      "text/plain": [
       "(1, 2, 3, 2, 6, 8)"
      ]
     },
     "execution_count": 79,
     "metadata": {},
     "output_type": "execute_result"
    }
   ],
   "source": [
    "(1,2,3)+(2,6,8)"
   ]
  },
  {
   "cell_type": "code",
   "execution_count": 81,
   "id": "9396dcb1-a4de-4bc6-b431-066d58e3dc8c",
   "metadata": {},
   "outputs": [
    {
     "data": {
      "text/plain": [
       "[3, 8, 11]"
      ]
     },
     "execution_count": 81,
     "metadata": {},
     "output_type": "execute_result"
    }
   ],
   "source": [
    "list(map(lambda tu1, tu2: tu1+tu2,(1,2,3),(2,6,8)))"
   ]
  },
  {
   "cell_type": "code",
   "execution_count": 83,
   "id": "7d4cfe1e-fd03-4a91-bb23-3a3be177ea31",
   "metadata": {},
   "outputs": [
    {
     "data": {
      "text/plain": [
       "[3, 8, 11]"
      ]
     },
     "execution_count": 83,
     "metadata": {},
     "output_type": "execute_result"
    }
   ],
   "source": [
    "list(map(lambda li1, li2: li1+li2,[1,2,3],[2,6,8]))"
   ]
  },
  {
   "cell_type": "code",
   "execution_count": 85,
   "id": "b8fd8a7c-4bb8-4ae6-86f7-15210bf5e6a5",
   "metadata": {},
   "outputs": [],
   "source": [
    "# help(filter)"
   ]
  },
  {
   "cell_type": "code",
   "execution_count": 91,
   "id": "f6e1451a-dd54-4539-943b-cb73d98bbd30",
   "metadata": {},
   "outputs": [],
   "source": [
    "def f5():\n",
    "    return True"
   ]
  },
  {
   "cell_type": "code",
   "execution_count": 93,
   "id": "368f26b6-8c81-4898-8fe6-6795bdc1a5ea",
   "metadata": {},
   "outputs": [
    {
     "data": {
      "text/plain": [
       "True"
      ]
     },
     "execution_count": 93,
     "metadata": {},
     "output_type": "execute_result"
    }
   ],
   "source": [
    "f5()"
   ]
  },
  {
   "cell_type": "code",
   "execution_count": 95,
   "id": "b0eaa938-5071-4734-b494-f1c0b9e1eece",
   "metadata": {},
   "outputs": [
    {
     "data": {
      "text/plain": [
       "[1, 2, 3]"
      ]
     },
     "execution_count": 95,
     "metadata": {},
     "output_type": "execute_result"
    }
   ],
   "source": [
    "[i for i in [-3,-2,-1,0,1,2,3] if i>0]"
   ]
  },
  {
   "cell_type": "code",
   "execution_count": 97,
   "id": "43e72afa-e214-45b8-b643-18a5462c1bcb",
   "metadata": {},
   "outputs": [
    {
     "data": {
      "text/plain": [
       "<filter at 0x1fec2064040>"
      ]
     },
     "execution_count": 97,
     "metadata": {},
     "output_type": "execute_result"
    }
   ],
   "source": [
    "filter(lambda li: li>0,[-3,-2,-1,0,1,2,3])"
   ]
  },
  {
   "cell_type": "code",
   "execution_count": 99,
   "id": "c4ba9d32-6e99-403d-9a16-eb627a133bb5",
   "metadata": {},
   "outputs": [
    {
     "data": {
      "text/plain": [
       "[1, 2, 3]"
      ]
     },
     "execution_count": 99,
     "metadata": {},
     "output_type": "execute_result"
    }
   ],
   "source": [
    "list(filter(lambda li: li>0,[-3,-2,-1,0,1,2,3]))"
   ]
  },
  {
   "cell_type": "code",
   "execution_count": 105,
   "id": "9d82e6ef-1bcd-4399-bbbe-f865f59d2fef",
   "metadata": {},
   "outputs": [],
   "source": [
    "# help(zip)"
   ]
  },
  {
   "cell_type": "code",
   "execution_count": 107,
   "id": "4c30287e-20f1-42dd-aa0e-a45681ddd7fb",
   "metadata": {},
   "outputs": [],
   "source": [
    "# zip은 묶는다는 개념"
   ]
  },
  {
   "cell_type": "code",
   "execution_count": 109,
   "id": "56860caa-8f47-4627-93e8-4af13a45473e",
   "metadata": {},
   "outputs": [
    {
     "data": {
      "text/plain": [
       "<zip at 0x1fec2bd4f00>"
      ]
     },
     "execution_count": 109,
     "metadata": {},
     "output_type": "execute_result"
    }
   ],
   "source": [
    "zip([1,2,3],[4,5,6])"
   ]
  },
  {
   "cell_type": "code",
   "execution_count": 111,
   "id": "02d1958c-1fe6-44fd-8508-071d2ba53ad3",
   "metadata": {},
   "outputs": [
    {
     "data": {
      "text/plain": [
       "[(1, 4), (2, 5), (3, 6)]"
      ]
     },
     "execution_count": 111,
     "metadata": {},
     "output_type": "execute_result"
    }
   ],
   "source": [
    "list(zip([1,2,3],[4,5,6]))"
   ]
  },
  {
   "cell_type": "code",
   "execution_count": 113,
   "id": "a5bee1bf-8a92-4889-8fff-4b6046b1f411",
   "metadata": {},
   "outputs": [
    {
     "data": {
      "text/plain": [
       "[('spring', 'cherryblossom'), ('summer', 'rose'), (3, 6)]"
      ]
     },
     "execution_count": 113,
     "metadata": {},
     "output_type": "execute_result"
    }
   ],
   "source": [
    "list(zip(['spring','summer',3],['cherryblossom','rose',6]))"
   ]
  },
  {
   "cell_type": "code",
   "execution_count": 115,
   "id": "11575f49-78bf-453b-953a-de3213360013",
   "metadata": {},
   "outputs": [
    {
     "data": {
      "text/plain": [
       "[('spring', 'cherryblossom'), ('summer', 'rose')]"
      ]
     },
     "execution_count": 115,
     "metadata": {},
     "output_type": "execute_result"
    }
   ],
   "source": [
    "list(zip(['spring','summer'],['cherryblossom','rose',6]))"
   ]
  },
  {
   "cell_type": "code",
   "execution_count": 117,
   "id": "b5174a0d-2e55-47bc-ac8b-7afa783494ba",
   "metadata": {},
   "outputs": [
    {
     "data": {
      "text/plain": [
       "[('spring', 'cherryblossom'), ('summer', 'rose')]"
      ]
     },
     "execution_count": 117,
     "metadata": {},
     "output_type": "execute_result"
    }
   ],
   "source": [
    "list(zip(['spring','summer',6],['cherryblossom','rose']))"
   ]
  },
  {
   "cell_type": "code",
   "execution_count": 119,
   "id": "62fe111c-ad28-48c9-ae4a-62789689f1fd",
   "metadata": {},
   "outputs": [],
   "source": [
    "# zip에서 개수가 안 맞으면 걍 무시해버린다"
   ]
  },
  {
   "cell_type": "code",
   "execution_count": 121,
   "id": "c4e68f92-24df-4e9a-bbd0-f4c1da10f694",
   "metadata": {},
   "outputs": [
    {
     "name": "stdout",
     "output_type": "stream",
     "text": [
      "in spring cherryblossom\n",
      "in summer rose\n"
     ]
    }
   ],
   "source": [
    "for season,flower in zip(['spring','summer',6],['cherryblossom','rose']):\n",
    "    print(f'in {season} {flower}' )"
   ]
  }
 ],
 "metadata": {
  "kernelspec": {
   "display_name": "Python 3 (ipykernel)",
   "language": "python",
   "name": "python3"
  },
  "language_info": {
   "codemirror_mode": {
    "name": "ipython",
    "version": 3
   },
   "file_extension": ".py",
   "mimetype": "text/x-python",
   "name": "python",
   "nbconvert_exporter": "python",
   "pygments_lexer": "ipython3",
   "version": "3.12.4"
  }
 },
 "nbformat": 4,
 "nbformat_minor": 5
}
