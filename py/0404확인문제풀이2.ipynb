{
 "cells": [
  {
   "cell_type": "code",
   "execution_count": 1,
   "id": "552ab127-b332-4ccd-a092-fc0b9ecb4db6",
   "metadata": {},
   "outputs": [],
   "source": [
    "li = [1,2,3,4,1,2,3,1,4,1,2,3]"
   ]
  },
  {
   "cell_type": "code",
   "execution_count": 3,
   "id": "48c6ef1e-999c-42b7-bf77-c626737a27d6",
   "metadata": {},
   "outputs": [],
   "source": [
    "# 개수 구하는 문제"
   ]
  },
  {
   "cell_type": "code",
   "execution_count": 5,
   "id": "3a90fadd-9351-4ac6-9803-c1cf8b191468",
   "metadata": {},
   "outputs": [],
   "source": [
    "cnt = {}"
   ]
  },
  {
   "cell_type": "code",
   "execution_count": 7,
   "id": "43b5908a-ecec-4280-b739-384acebb5ec6",
   "metadata": {},
   "outputs": [
    {
     "data": {
      "text/plain": [
       "True"
      ]
     },
     "execution_count": 7,
     "metadata": {},
     "output_type": "execute_result"
    }
   ],
   "source": [
    "1 in li"
   ]
  },
  {
   "cell_type": "code",
   "execution_count": 9,
   "id": "ec4c8f29-dc53-446a-b3c0-e4df6e6718ee",
   "metadata": {},
   "outputs": [],
   "source": [
    "for i in li:\n",
    "    if i in cnt:\n",
    "        cnt[i] = cnt[i] + 1\n",
    "    else:\n",
    "        cnt[i] = 1"
   ]
  },
  {
   "cell_type": "code",
   "execution_count": 11,
   "id": "5a67f5ee-21ef-486d-87f9-789201509802",
   "metadata": {},
   "outputs": [
    {
     "data": {
      "text/plain": [
       "{1: 4, 2: 3, 3: 3, 4: 2}"
      ]
     },
     "execution_count": 11,
     "metadata": {},
     "output_type": "execute_result"
    }
   ],
   "source": [
    "cnt"
   ]
  },
  {
   "cell_type": "code",
   "execution_count": null,
   "id": "23d41868-1d17-4f57-8808-8df90919168a",
   "metadata": {},
   "outputs": [],
   "source": [
    "len(cnt)"
   ]
  },
  {
   "cell_type": "code",
   "execution_count": 13,
   "id": "f299354f-5c90-43f2-a0a8-a0742683baef",
   "metadata": {},
   "outputs": [
    {
     "data": {
      "text/plain": [
       "dict"
      ]
     },
     "execution_count": 13,
     "metadata": {},
     "output_type": "execute_result"
    }
   ],
   "source": [
    "type({})"
   ]
  },
  {
   "cell_type": "code",
   "execution_count": 15,
   "id": "71983fb1-0282-4376-9e60-43084ddd5a3d",
   "metadata": {},
   "outputs": [],
   "source": [
    "di = {'a':'apple'}"
   ]
  },
  {
   "cell_type": "code",
   "execution_count": 17,
   "id": "79283f74-db48-4796-a6c0-923e8fcc83a1",
   "metadata": {},
   "outputs": [],
   "source": [
    "di['b'] = 'banana'"
   ]
  },
  {
   "cell_type": "code",
   "execution_count": 19,
   "id": "21e7e5a8-7580-408c-bb9c-b401fad25840",
   "metadata": {},
   "outputs": [
    {
     "data": {
      "text/plain": [
       "{'a': 'apple', 'b': 'banana'}"
      ]
     },
     "execution_count": 19,
     "metadata": {},
     "output_type": "execute_result"
    }
   ],
   "source": [
    "di"
   ]
  },
  {
   "cell_type": "code",
   "execution_count": null,
   "id": "1d733131-5743-4dc5-964a-d9220ede7c40",
   "metadata": {},
   "outputs": [],
   "source": [
    "# 간결한 코드"
   ]
  },
  {
   "cell_type": "code",
   "execution_count": 21,
   "id": "aa2f3a40-e855-4d23-b371-7a5dba0814a9",
   "metadata": {},
   "outputs": [
    {
     "data": {
      "text/plain": [
       "[1, 2, 3, 4, 1, 2, 3, 1, 4, 1, 2, 3]"
      ]
     },
     "execution_count": 21,
     "metadata": {},
     "output_type": "execute_result"
    }
   ],
   "source": [
    "li"
   ]
  },
  {
   "cell_type": "code",
   "execution_count": 23,
   "id": "09648c07-04c6-4479-b7f0-56af5e09758e",
   "metadata": {},
   "outputs": [
    {
     "ename": "SyntaxError",
     "evalue": "invalid syntax (3450153615.py, line 1)",
     "output_type": "error",
     "traceback": [
      "\u001b[1;36m  Cell \u001b[1;32mIn[23], line 1\u001b[1;36m\u001b[0m\n\u001b[1;33m    help(set) 집합(수학에서 집합은 중복이 되지 않게하고, 순서가 없다)\u001b[0m\n\u001b[1;37m              ^\u001b[0m\n\u001b[1;31mSyntaxError\u001b[0m\u001b[1;31m:\u001b[0m invalid syntax\n"
     ]
    }
   ],
   "source": [
    "# help(set) 집합(수학에서 집합은 중복이 되지 않게하고, 순서가 없다)"
   ]
  },
  {
   "cell_type": "code",
   "execution_count": 25,
   "id": "a96b0a98-ae0b-4dba-affa-d475fb37d809",
   "metadata": {},
   "outputs": [
    {
     "data": {
      "text/plain": [
       "{1, 2, 3, 4}"
      ]
     },
     "execution_count": 25,
     "metadata": {},
     "output_type": "execute_result"
    }
   ],
   "source": [
    "set(li)"
   ]
  },
  {
   "cell_type": "code",
   "execution_count": 27,
   "id": "20c3cb52-e5e8-4235-a474-eeecf58c6e15",
   "metadata": {},
   "outputs": [
    {
     "data": {
      "text/plain": [
       "{1, 2}"
      ]
     },
     "execution_count": 27,
     "metadata": {},
     "output_type": "execute_result"
    }
   ],
   "source": [
    "set([1,1,2])"
   ]
  },
  {
   "cell_type": "code",
   "execution_count": 29,
   "id": "026a0f92-31ad-4bfd-812e-4a5bdbf27754",
   "metadata": {},
   "outputs": [
    {
     "name": "stdout",
     "output_type": "stream",
     "text": [
      "[1, 2, 3, 4, 1, 2, 3, 1, 4, 1, 2, 3]\n"
     ]
    }
   ],
   "source": [
    "print(li)"
   ]
  },
  {
   "cell_type": "code",
   "execution_count": 31,
   "id": "7a00e549-ca30-4e4d-84a0-b8d8b6dd694f",
   "metadata": {},
   "outputs": [
    {
     "name": "stdout",
     "output_type": "stream",
     "text": [
      "[1, 2, 3, 4, 1, 2, 3, 1, 4, 1, 2, 3]\n"
     ]
    }
   ],
   "source": [
    "print(f'{li}')"
   ]
  },
  {
   "cell_type": "code",
   "execution_count": 37,
   "id": "cff23c98-af9a-4207-9b9b-aa501285f6f6",
   "metadata": {},
   "outputs": [
    {
     "name": "stdout",
     "output_type": "stream",
     "text": [
      "[1, 2, 3, 4, 1, 2, 3, 1, 4, 1, 2, 3]에서 사용된 숫자의 종류는 4개입니다.\n"
     ]
    }
   ],
   "source": [
    "print(f'{li}에서 사용된 숫자의 종류는 {len(set(li))}개입니다.')"
   ]
  },
  {
   "cell_type": "code",
   "execution_count": 49,
   "id": "e67b5aed-a374-45be-9ad5-733ee7514ffa",
   "metadata": {},
   "outputs": [
    {
     "name": "stdin",
     "output_type": "stream",
     "text": [
      " atcggctgcgatggctagggcaatc\n"
     ]
    }
   ],
   "source": [
    "dna = input('')"
   ]
  },
  {
   "cell_type": "code",
   "execution_count": 51,
   "id": "6d47f764-d8bf-465e-90d3-51416dea7828",
   "metadata": {},
   "outputs": [
    {
     "data": {
      "text/plain": [
       "25"
      ]
     },
     "execution_count": 51,
     "metadata": {},
     "output_type": "execute_result"
    }
   ],
   "source": [
    "len(dna)"
   ]
  },
  {
   "cell_type": "code",
   "execution_count": null,
   "id": "44342559-f230-47d7-875a-f934b1272f02",
   "metadata": {},
   "outputs": [],
   "source": [
    "for i in range(0,len(dna0))"
   ]
  },
  {
   "cell_type": "code",
   "execution_count": 55,
   "id": "a1b24a8d-2ace-4229-8f4d-8d18da195535",
   "metadata": {},
   "outputs": [
    {
     "name": "stdout",
     "output_type": "stream",
     "text": [
      "atc ggc tgc gat ggc tag ggc aat c "
     ]
    }
   ],
   "source": [
    "for i in range(0,len(dna),3):\n",
    "    print(dna[i:i+3], end=' ')"
   ]
  },
  {
   "cell_type": "code",
   "execution_count": 61,
   "id": "7decf7bb-f398-45e0-ab5a-fd1f0c23dabb",
   "metadata": {},
   "outputs": [
    {
     "name": "stdin",
     "output_type": "stream",
     "text": [
      "염기 서열을 입력해주세요: atcggctgcgatggctagggcaatc\n"
     ]
    }
   ],
   "source": [
    "dna=input('염기 서열을 입력해주세요:')\n",
    "cnt = {}\n",
    "for i in range(0,len(dna),3):\n",
    "    codon = dna[i:i+3]\n",
    "    if len(codon) ==3:\n",
    "        if codon in cnt:\n",
    "            cnt[codon] = cnt[codon] + 1\n",
    "        else:\n",
    "            cnt[codon] = 1"
   ]
  },
  {
   "cell_type": "code",
   "execution_count": 63,
   "id": "0f134fd2-61da-4503-9a4c-728127c564f0",
   "metadata": {},
   "outputs": [
    {
     "data": {
      "text/plain": [
       "{'atc': 1, 'ggc': 3, 'tgc': 1, 'gat': 1, 'tag': 1, 'aat': 1}"
      ]
     },
     "execution_count": 63,
     "metadata": {},
     "output_type": "execute_result"
    }
   ],
   "source": [
    "cnt"
   ]
  },
  {
   "cell_type": "code",
   "execution_count": null,
   "id": "c2f42028-d20d-408b-b2c0-d61126f46b05",
   "metadata": {},
   "outputs": [],
   "source": []
  }
 ],
 "metadata": {
  "kernelspec": {
   "display_name": "Python 3 (ipykernel)",
   "language": "python",
   "name": "python3"
  },
  "language_info": {
   "codemirror_mode": {
    "name": "ipython",
    "version": 3
   },
   "file_extension": ".py",
   "mimetype": "text/x-python",
   "name": "python",
   "nbconvert_exporter": "python",
   "pygments_lexer": "ipython3",
   "version": "3.12.4"
  }
 },
 "nbformat": 4,
 "nbformat_minor": 5
}
