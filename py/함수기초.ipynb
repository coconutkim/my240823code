{
 "cells": [
  {
   "cell_type": "code",
   "execution_count": 1,
   "id": "e5b43c73-9b94-46cb-ba33-a92077c2e629",
   "metadata": {},
   "outputs": [
    {
     "ename": "SyntaxError",
     "evalue": "invalid syntax (3286847329.py, line 1)",
     "output_type": "error",
     "traceback": [
      "\u001b[1;36m  Cell \u001b[1;32mIn[1], line 1\u001b[1;36m\u001b[0m\n\u001b[1;33m    매개변수 없고 리턴값 없다\u001b[0m\n\u001b[1;37m         ^\u001b[0m\n\u001b[1;31mSyntaxError\u001b[0m\u001b[1;31m:\u001b[0m invalid syntax\n"
     ]
    }
   ],
   "source": [
    "# 매개변수 없고 리턴값 없다"
   ]
  },
  {
   "cell_type": "code",
   "execution_count": 3,
   "id": "819bc681-2bb4-4a8c-82d9-80efb33ace42",
   "metadata": {},
   "outputs": [],
   "source": [
    "def f1():\n",
    "    print('hi')"
   ]
  },
  {
   "cell_type": "code",
   "execution_count": 5,
   "id": "6e43d78a-bef8-4cf6-af6a-629a68ec9a27",
   "metadata": {},
   "outputs": [
    {
     "name": "stdout",
     "output_type": "stream",
     "text": [
      "hi\n"
     ]
    }
   ],
   "source": [
    "f1()"
   ]
  },
  {
   "cell_type": "code",
   "execution_count": 7,
   "id": "6d04ead4-47e7-4395-acd2-ea5ee269b99a",
   "metadata": {},
   "outputs": [],
   "source": [
    "# 매개변수 있고 리턴값 없다"
   ]
  },
  {
   "cell_type": "code",
   "execution_count": 17,
   "id": "0aa7db56-a93b-4347-ad4c-810f45a45316",
   "metadata": {},
   "outputs": [],
   "source": [
    "def f2(gift):\n",
    "    print(gift + ' hi')"
   ]
  },
  {
   "cell_type": "code",
   "execution_count": 19,
   "id": "a3da30e9-dd8c-4678-99c8-3859ba4289f6",
   "metadata": {},
   "outputs": [
    {
     "name": "stdout",
     "output_type": "stream",
     "text": [
      "candy hi\n"
     ]
    }
   ],
   "source": [
    "f2('candy')"
   ]
  },
  {
   "cell_type": "code",
   "execution_count": 21,
   "id": "02ef4703-923a-4118-81f4-636106b78d3a",
   "metadata": {},
   "outputs": [],
   "source": [
    "# 매개변수 없고 리턴값 있다"
   ]
  },
  {
   "cell_type": "code",
   "execution_count": 23,
   "id": "e344f8f8-d7eb-4305-8414-25a042687e94",
   "metadata": {},
   "outputs": [],
   "source": [
    "def f3():\n",
    "    return 'snack'"
   ]
  },
  {
   "cell_type": "code",
   "execution_count": 27,
   "id": "a132272f-2f08-4754-abe1-fc3dbd1dd8cd",
   "metadata": {},
   "outputs": [],
   "source": [
    "result = f3()"
   ]
  },
  {
   "cell_type": "code",
   "execution_count": 29,
   "id": "9ec152f4-967a-4071-8562-207b922f362f",
   "metadata": {},
   "outputs": [
    {
     "data": {
      "text/plain": [
       "'snack'"
      ]
     },
     "execution_count": 29,
     "metadata": {},
     "output_type": "execute_result"
    }
   ],
   "source": [
    "result"
   ]
  },
  {
   "cell_type": "code",
   "execution_count": 33,
   "id": "645ee2a8-8678-48d0-a513-6936d8b39d02",
   "metadata": {},
   "outputs": [],
   "source": [
    "# 매개변수 있고 리턴값 있다"
   ]
  },
  {
   "cell_type": "code",
   "execution_count": 35,
   "id": "e6c09f7f-52ec-4699-a47a-39fb166af3b7",
   "metadata": {},
   "outputs": [],
   "source": [
    "def f4(gift):\n",
    "    print(gift+ ' hi')\n",
    "    return 'snack'"
   ]
  },
  {
   "cell_type": "code",
   "execution_count": 37,
   "id": "27c81187-6122-4a5f-ae4d-6fc37a05f558",
   "metadata": {},
   "outputs": [],
   "source": [
    "# 리턴 있을 때는 변수에 넣어준다"
   ]
  },
  {
   "cell_type": "code",
   "execution_count": 39,
   "id": "083843ef-35ad-4ec4-bd04-b3ef81aa350f",
   "metadata": {},
   "outputs": [
    {
     "name": "stdout",
     "output_type": "stream",
     "text": [
      "ant hi\n"
     ]
    }
   ],
   "source": [
    "result2 = f4('ant')"
   ]
  },
  {
   "cell_type": "code",
   "execution_count": 41,
   "id": "8e89a4be-00d6-4c5d-9b3e-7acdbbd5e914",
   "metadata": {},
   "outputs": [
    {
     "data": {
      "text/plain": [
       "'snack'"
      ]
     },
     "execution_count": 41,
     "metadata": {},
     "output_type": "execute_result"
    }
   ],
   "source": [
    "result2"
   ]
  },
  {
   "cell_type": "code",
   "execution_count": 43,
   "id": "b8939281-cd2f-4feb-b843-f4c8bf9a925d",
   "metadata": {},
   "outputs": [],
   "source": [
    "# 함수의 다양한 매개변수"
   ]
  },
  {
   "cell_type": "code",
   "execution_count": 47,
   "id": "fac7a48e-77ad-4668-9a18-e4d9b04aa70d",
   "metadata": {},
   "outputs": [],
   "source": [
    "def f5(*values):\n",
    "    print(values)"
   ]
  },
  {
   "cell_type": "code",
   "execution_count": 52,
   "id": "7fa9eeb3-b028-4ab7-a157-1657a6f54403",
   "metadata": {},
   "outputs": [
    {
     "name": "stdout",
     "output_type": "stream",
     "text": [
      "()\n"
     ]
    }
   ],
   "source": [
    "f5()"
   ]
  },
  {
   "cell_type": "code",
   "execution_count": 54,
   "id": "925cd559-43ca-45d3-8223-51e22c045686",
   "metadata": {},
   "outputs": [
    {
     "name": "stdout",
     "output_type": "stream",
     "text": [
      "(1,)\n"
     ]
    }
   ],
   "source": [
    "f5(1)"
   ]
  },
  {
   "cell_type": "code",
   "execution_count": 56,
   "id": "6ecdd839-e60e-437d-b236-71f76555096b",
   "metadata": {},
   "outputs": [
    {
     "name": "stdout",
     "output_type": "stream",
     "text": [
      "(1, 2)\n"
     ]
    }
   ],
   "source": [
    "f5(1,2)"
   ]
  },
  {
   "cell_type": "code",
   "execution_count": 60,
   "id": "b19db9fc-7f03-4623-a514-f953800ef838",
   "metadata": {},
   "outputs": [],
   "source": [
    "def f6(gift,*values):\n",
    "    print(gift,values)"
   ]
  },
  {
   "cell_type": "code",
   "execution_count": 62,
   "id": "8b83643b-b6f7-407e-964e-4813335d476c",
   "metadata": {},
   "outputs": [
    {
     "ename": "TypeError",
     "evalue": "f6() missing 1 required positional argument: 'gift'",
     "output_type": "error",
     "traceback": [
      "\u001b[1;31m---------------------------------------------------------------------------\u001b[0m",
      "\u001b[1;31mTypeError\u001b[0m                                 Traceback (most recent call last)",
      "Cell \u001b[1;32mIn[62], line 1\u001b[0m\n\u001b[1;32m----> 1\u001b[0m f6()\n",
      "\u001b[1;31mTypeError\u001b[0m: f6() missing 1 required positional argument: 'gift'"
     ]
    }
   ],
   "source": [
    "f6()"
   ]
  },
  {
   "cell_type": "code",
   "execution_count": 64,
   "id": "fb317fbd-98c5-43fb-ac2f-5855715979fd",
   "metadata": {},
   "outputs": [
    {
     "name": "stdout",
     "output_type": "stream",
     "text": [
      "melon ()\n"
     ]
    }
   ],
   "source": [
    "f6('melon')"
   ]
  },
  {
   "cell_type": "code",
   "execution_count": 70,
   "id": "3ed01660-bfa7-4c69-90a6-9a77b5e3fa7b",
   "metadata": {},
   "outputs": [
    {
     "name": "stdout",
     "output_type": "stream",
     "text": [
      "melon (1,)\n"
     ]
    }
   ],
   "source": [
    "f6('melon',1)"
   ]
  },
  {
   "cell_type": "code",
   "execution_count": 78,
   "id": "5a8c039c-866b-4d60-870c-8db5423d86e3",
   "metadata": {},
   "outputs": [],
   "source": [
    "def f6(*values,gift):\n",
    "    print(values, gift)"
   ]
  },
  {
   "cell_type": "code",
   "execution_count": 80,
   "id": "55a00476-4d5c-4d8d-b8a8-433522df1105",
   "metadata": {},
   "outputs": [],
   "source": [
    "def f6(*values,gift):\n",
    "    pass"
   ]
  },
  {
   "cell_type": "markdown",
   "id": "2633b88f-060f-4719-8cb6-3bc7e84e7ba8",
   "metadata": {},
   "source": [
    "안녕하세요 하이 방가방가  \n",
    "부르스 윌리스  \n",
    "esc, m 누르면 마크업, 줄 바꿈은 스페이스바 2번"
   ]
  },
  {
   "cell_type": "code",
   "execution_count": 86,
   "id": "e4111755-c49a-40da-9787-eecf4c7371e9",
   "metadata": {},
   "outputs": [
    {
     "ename": "TypeError",
     "evalue": "f6() missing 1 required keyword-only argument: 'gift'",
     "output_type": "error",
     "traceback": [
      "\u001b[1;31m---------------------------------------------------------------------------\u001b[0m",
      "\u001b[1;31mTypeError\u001b[0m                                 Traceback (most recent call last)",
      "Cell \u001b[1;32mIn[86], line 1\u001b[0m\n\u001b[1;32m----> 1\u001b[0m f6(\u001b[38;5;124m'\u001b[39m\u001b[38;5;124mbbang\u001b[39m\u001b[38;5;124m'\u001b[39m, \u001b[38;5;124m'\u001b[39m\u001b[38;5;124mchae\u001b[39m\u001b[38;5;124m'\u001b[39m)\n",
      "\u001b[1;31mTypeError\u001b[0m: f6() missing 1 required keyword-only argument: 'gift'"
     ]
    }
   ],
   "source": [
    "f6('bbang', 'chae')"
   ]
  },
  {
   "cell_type": "code",
   "execution_count": 97,
   "id": "0b767b25-1c2a-423a-9298-f3e18577e295",
   "metadata": {},
   "outputs": [
    {
     "ename": "SyntaxError",
     "evalue": "* argument may appear only once (3417805697.py, line 1)",
     "output_type": "error",
     "traceback": [
      "\u001b[1;36m  Cell \u001b[1;32mIn[97], line 1\u001b[1;36m\u001b[0m\n\u001b[1;33m    def f8(*values1,*values2):\u001b[0m\n\u001b[1;37m                    ^\u001b[0m\n\u001b[1;31mSyntaxError\u001b[0m\u001b[1;31m:\u001b[0m * argument may appear only once\n"
     ]
    }
   ],
   "source": [
    "def f8(*values1,*values2):\n",
    "    pass"
   ]
  },
  {
   "cell_type": "code",
   "execution_count": 99,
   "id": "90e7113c-b875-41c3-a110-5afabd5c8fd7",
   "metadata": {},
   "outputs": [],
   "source": [
    "def f9(menu = 'bbang'):\n",
    "    print(menu)"
   ]
  },
  {
   "cell_type": "code",
   "execution_count": 101,
   "id": "d6e6d160-6801-4f89-bab1-65f2357e36f3",
   "metadata": {},
   "outputs": [
    {
     "name": "stdout",
     "output_type": "stream",
     "text": [
      "bbang\n"
     ]
    }
   ],
   "source": [
    "f9()"
   ]
  },
  {
   "cell_type": "code",
   "execution_count": 103,
   "id": "a1212e7c-fa56-4e7b-bdd9-d98462a492af",
   "metadata": {},
   "outputs": [],
   "source": [
    "# 기본 매개변수(기본값이 있는 매개변수 이므로 그 해당되는 매개변수자리에 실제값을 넣어도 에러가 안 나고\n",
    "# 기본값이 출력"
   ]
  },
  {
   "cell_type": "code",
   "execution_count": 105,
   "id": "99025814-ff45-4dbe-b672-b4e37d61cd48",
   "metadata": {},
   "outputs": [
    {
     "name": "stdout",
     "output_type": "stream",
     "text": [
      "bbang\n"
     ]
    }
   ],
   "source": [
    "f9()"
   ]
  },
  {
   "cell_type": "code",
   "execution_count": 107,
   "id": "60cbc671-27f4-486b-9797-2ee293b9e20f",
   "metadata": {},
   "outputs": [
    {
     "name": "stdout",
     "output_type": "stream",
     "text": [
      "rice\n"
     ]
    }
   ],
   "source": [
    "# f9('rice') 'menu='가 생략된 형태"
   ]
  },
  {
   "cell_type": "code",
   "execution_count": 109,
   "id": "e8d0389f-d2b0-4984-9a02-fda389457100",
   "metadata": {},
   "outputs": [
    {
     "name": "stdout",
     "output_type": "stream",
     "text": [
      "bibim\n"
     ]
    }
   ],
   "source": [
    "f9(menu='bibim')"
   ]
  },
  {
   "cell_type": "code",
   "execution_count": 111,
   "id": "03a3b2c5-59f0-48d0-bd49-3105ef89d557",
   "metadata": {},
   "outputs": [
    {
     "ename": "SyntaxError",
     "evalue": "unterminated string literal (detected at line 1) (4051613155.py, line 1)",
     "output_type": "error",
     "traceback": [
      "\u001b[1;36m  Cell \u001b[1;32mIn[111], line 1\u001b[1;36m\u001b[0m\n\u001b[1;33m    f9\"('rice','tofu')\u001b[0m\n\u001b[1;37m      ^\u001b[0m\n\u001b[1;31mSyntaxError\u001b[0m\u001b[1;31m:\u001b[0m unterminated string literal (detected at line 1)\n"
     ]
    }
   ],
   "source": [
    "# f9\"('rice','tofu') 하나만 넣으라고 한다"
   ]
  },
  {
   "cell_type": "code",
   "execution_count": 115,
   "id": "aa307cf8-5a64-4bf0-aae1-74adf837e681",
   "metadata": {},
   "outputs": [],
   "source": [
    "def f10(gift,menu = 'bap'):\n",
    "    print(gift, menu)"
   ]
  },
  {
   "cell_type": "code",
   "execution_count": 117,
   "id": "5e5fc3fe-d927-4221-b659-aea09ace2675",
   "metadata": {},
   "outputs": [
    {
     "name": "stdout",
     "output_type": "stream",
     "text": [
      "bla cola\n"
     ]
    }
   ],
   "source": [
    "f10('bla','cola')"
   ]
  },
  {
   "cell_type": "code",
   "execution_count": 125,
   "id": "03ef126f-6741-402d-9795-bca145f74042",
   "metadata": {},
   "outputs": [
    {
     "ename": "SyntaxError",
     "evalue": "parameter without a default follows parameter with a default (1235089475.py, line 1)",
     "output_type": "error",
     "traceback": [
      "\u001b[1;36m  Cell \u001b[1;32mIn[125], line 1\u001b[1;36m\u001b[0m\n\u001b[1;33m    def f11(menu = 'bap',gift):\u001b[0m\n\u001b[1;37m                         ^\u001b[0m\n\u001b[1;31mSyntaxError\u001b[0m\u001b[1;31m:\u001b[0m parameter without a default follows parameter with a default\n"
     ]
    }
   ],
   "source": [
    "def f11(menu = 'bap',gift):\n",
    "    pass\n",
    "    # 기본 매개변수 다음에 매개변수 오면 오류가 나온다"
   ]
  },
  {
   "cell_type": "code",
   "execution_count": 133,
   "id": "3fd8a3ae-2f8a-4eec-9848-c975bf4e479b",
   "metadata": {},
   "outputs": [],
   "source": [
    "def f12(*values, menu = 'rice'):\n",
    "    print(values, menu)"
   ]
  },
  {
   "cell_type": "code",
   "execution_count": 135,
   "id": "68f66a8d-3c26-47dc-95ac-a650f1429197",
   "metadata": {},
   "outputs": [
    {
     "name": "stdout",
     "output_type": "stream",
     "text": [
      "() rice\n"
     ]
    }
   ],
   "source": [
    "f12()"
   ]
  },
  {
   "cell_type": "code",
   "execution_count": 141,
   "id": "1dae191a-55f2-403d-85c2-c0fa8fe9d2d4",
   "metadata": {},
   "outputs": [
    {
     "name": "stdout",
     "output_type": "stream",
     "text": [
      "rice ('samgyup',)\n"
     ]
    }
   ],
   "source": [
    "f12('samgyup')"
   ]
  },
  {
   "cell_type": "code",
   "execution_count": 143,
   "id": "d3bce22b-6cce-4b41-80a9-37fc317b60e6",
   "metadata": {},
   "outputs": [
    {
     "name": "stdout",
     "output_type": "stream",
     "text": [
      "rice ('samgyup', 'lettuce')\n"
     ]
    }
   ],
   "source": [
    "f12('samgyup','lettuce')"
   ]
  },
  {
   "cell_type": "code",
   "execution_count": 149,
   "id": "f309be99-fbd6-4214-a03a-4d65d55eb8eb",
   "metadata": {},
   "outputs": [
    {
     "name": "stdout",
     "output_type": "stream",
     "text": [
      "cold ('sam', 'lettuce')\n"
     ]
    }
   ],
   "source": [
    "f12('sam','lettuce',menu = 'cold')"
   ]
  },
  {
   "cell_type": "code",
   "execution_count": 137,
   "id": "3c8bb001-1566-40e2-a29d-2beb6110d9fd",
   "metadata": {},
   "outputs": [],
   "source": [
    "def f12(*values, menu = 'rice'):\n",
    "    print(menu,values)"
   ]
  },
  {
   "cell_type": "code",
   "execution_count": 139,
   "id": "76cceb50-71ba-409f-b3e5-330fbc06f163",
   "metadata": {},
   "outputs": [
    {
     "name": "stdout",
     "output_type": "stream",
     "text": [
      "rice ()\n"
     ]
    }
   ],
   "source": [
    "f12()"
   ]
  },
  {
   "cell_type": "code",
   "execution_count": 151,
   "id": "b107034f-4fc8-4ab3-ba47-d8fec82a07a8",
   "metadata": {},
   "outputs": [],
   "source": [
    "def f14(menu='bap',*values):\n",
    "    print(menu, values)"
   ]
  },
  {
   "cell_type": "code",
   "execution_count": 153,
   "id": "82fbc964-f64c-463b-ab84-7780b5aa1d40",
   "metadata": {},
   "outputs": [
    {
     "name": "stdout",
     "output_type": "stream",
     "text": [
      "bap ()\n"
     ]
    }
   ],
   "source": [
    "f14()"
   ]
  },
  {
   "cell_type": "code",
   "execution_count": 155,
   "id": "ae1b296e-42ad-4b63-a256-0717cd245889",
   "metadata": {},
   "outputs": [
    {
     "name": "stdout",
     "output_type": "stream",
     "text": [
      "sam ('cold',)\n"
     ]
    }
   ],
   "source": [
    "f14('sam','cold')"
   ]
  },
  {
   "cell_type": "code",
   "execution_count": 157,
   "id": "0bde4d8a-b903-4dde-9dd8-9a5be8ba5d86",
   "metadata": {},
   "outputs": [
    {
     "name": "stdout",
     "output_type": "stream",
     "text": [
      "sam ('cold', 'egg')\n"
     ]
    }
   ],
   "source": [
    "f14('sam','cold','egg')"
   ]
  },
  {
   "cell_type": "code",
   "execution_count": null,
   "id": "e6807aec-5c63-435b-8ac2-adbed3edb2d7",
   "metadata": {},
   "outputs": [],
   "source": [
    "# 매개변수 앞에 *는 튜플, **는 딕셔너리"
   ]
  },
  {
   "cell_type": "code",
   "execution_count": 159,
   "id": "86832b69-1aab-4cac-9bae-fec961ab9fdb",
   "metadata": {},
   "outputs": [],
   "source": [
    "def f15(**values):\n",
    "    print(values)"
   ]
  },
  {
   "cell_type": "code",
   "execution_count": 161,
   "id": "3402de2e-fb34-4857-be7d-f1d247eab3f9",
   "metadata": {},
   "outputs": [
    {
     "name": "stdout",
     "output_type": "stream",
     "text": [
      "{}\n"
     ]
    }
   ],
   "source": [
    "f15()"
   ]
  },
  {
   "cell_type": "code",
   "execution_count": null,
   "id": "f31be45f-49a1-452a-9d15-6c4cd8e0f22e",
   "metadata": {},
   "outputs": [],
   "source": [
    "# 집합 set(), 집합은 순서 없고 중복을 제거"
   ]
  },
  {
   "cell_type": "code",
   "execution_count": 163,
   "id": "3f49da35-f627-4e1c-bc67-495163ac017e",
   "metadata": {},
   "outputs": [
    {
     "data": {
      "text/plain": [
       "set"
      ]
     },
     "execution_count": 163,
     "metadata": {},
     "output_type": "execute_result"
    }
   ],
   "source": [
    "type({1,2,3})"
   ]
  },
  {
   "cell_type": "code",
   "execution_count": 165,
   "id": "a0034991-0d15-4399-9201-5c950e538d88",
   "metadata": {},
   "outputs": [
    {
     "data": {
      "text/plain": [
       "{1, 2, 3}"
      ]
     },
     "execution_count": 165,
     "metadata": {},
     "output_type": "execute_result"
    }
   ],
   "source": [
    "{1,2,3,3,3,3,3,2,2,2,2,}"
   ]
  },
  {
   "cell_type": "code",
   "execution_count": 167,
   "id": "6c7921cc-fbbc-4305-862e-1c15d8755165",
   "metadata": {},
   "outputs": [
    {
     "ename": "TypeError",
     "evalue": "unhashable type: 'list'",
     "output_type": "error",
     "traceback": [
      "\u001b[1;31m---------------------------------------------------------------------------\u001b[0m",
      "\u001b[1;31mTypeError\u001b[0m                                 Traceback (most recent call last)",
      "Cell \u001b[1;32mIn[167], line 1\u001b[0m\n\u001b[1;32m----> 1\u001b[0m {\u001b[38;5;241m1\u001b[39m,\u001b[38;5;241m2\u001b[39m,[\u001b[38;5;124m'\u001b[39m\u001b[38;5;124mhi\u001b[39m\u001b[38;5;124m'\u001b[39m,\u001b[38;5;241m5\u001b[39m]}\n",
      "\u001b[1;31mTypeError\u001b[0m: unhashable type: 'list'"
     ]
    }
   ],
   "source": [
    "{1,2,['hi',5]}"
   ]
  },
  {
   "cell_type": "code",
   "execution_count": 169,
   "id": "681cab12-890c-40a1-96d0-6a8260cabc67",
   "metadata": {},
   "outputs": [
    {
     "ename": "TypeError",
     "evalue": "unhashable type: 'dict'",
     "output_type": "error",
     "traceback": [
      "\u001b[1;31m---------------------------------------------------------------------------\u001b[0m",
      "\u001b[1;31mTypeError\u001b[0m                                 Traceback (most recent call last)",
      "Cell \u001b[1;32mIn[169], line 1\u001b[0m\n\u001b[1;32m----> 1\u001b[0m {\u001b[38;5;241m1\u001b[39m,\u001b[38;5;241m2\u001b[39m,{}}\n",
      "\u001b[1;31mTypeError\u001b[0m: unhashable type: 'dict'"
     ]
    }
   ],
   "source": [
    "{1,2,{}}"
   ]
  },
  {
   "cell_type": "code",
   "execution_count": 171,
   "id": "73bb024f-4fc8-4bb7-b9e3-3463504fd551",
   "metadata": {},
   "outputs": [
    {
     "name": "stdout",
     "output_type": "stream",
     "text": [
      "1\n",
      "2\n",
      "3\n",
      "33\n"
     ]
    }
   ],
   "source": [
    "for i in {1,2,3,3,3,3,33,3,3,3}:\n",
    "    print(i)"
   ]
  },
  {
   "cell_type": "code",
   "execution_count": 173,
   "id": "ee5e4115-c8f0-420c-8dbc-9f9ecfd7047e",
   "metadata": {},
   "outputs": [],
   "source": [
    "def f15(**values):\n",
    "    print(values)"
   ]
  },
  {
   "cell_type": "code",
   "execution_count": 175,
   "id": "08f2d060-cdc7-4582-aea3-fbfda3c06e9d",
   "metadata": {},
   "outputs": [
    {
     "name": "stdout",
     "output_type": "stream",
     "text": [
      "{}\n"
     ]
    }
   ],
   "source": [
    "f15()"
   ]
  },
  {
   "cell_type": "code",
   "execution_count": 189,
   "id": "597f39f3-818b-4946-a80b-2094a20e35f4",
   "metadata": {},
   "outputs": [
    {
     "name": "stdout",
     "output_type": "stream",
     "text": [
      "{'k': 1, 'n': 2}\n"
     ]
    }
   ],
   "source": [
    "f15(k= 1, n = 2)"
   ]
  },
  {
   "cell_type": "code",
   "execution_count": 191,
   "id": "08da787f-33d0-471d-8880-42b86acbe002",
   "metadata": {},
   "outputs": [
    {
     "ename": "SyntaxError",
     "evalue": "invalid syntax (2861557803.py, line 1)",
     "output_type": "error",
     "traceback": [
      "\u001b[1;36m  Cell \u001b[1;32mIn[191], line 1\u001b[1;36m\u001b[0m\n\u001b[1;33m    f15('a':'apple')\u001b[0m\n\u001b[1;37m           ^\u001b[0m\n\u001b[1;31mSyntaxError\u001b[0m\u001b[1;31m:\u001b[0m invalid syntax\n"
     ]
    }
   ],
   "source": [
    "f15('a':'apple')"
   ]
  },
  {
   "cell_type": "code",
   "execution_count": 193,
   "id": "27b869cd-03be-4e2b-87da-e1ad20772f2f",
   "metadata": {},
   "outputs": [
    {
     "ename": "TypeError",
     "evalue": "f15() takes 0 positional arguments but 1 was given",
     "output_type": "error",
     "traceback": [
      "\u001b[1;31m---------------------------------------------------------------------------\u001b[0m",
      "\u001b[1;31mTypeError\u001b[0m                                 Traceback (most recent call last)",
      "Cell \u001b[1;32mIn[193], line 1\u001b[0m\n\u001b[1;32m----> 1\u001b[0m f15({\u001b[38;5;124m'\u001b[39m\u001b[38;5;124ma\u001b[39m\u001b[38;5;124m'\u001b[39m:\u001b[38;5;124m'\u001b[39m\u001b[38;5;124mapple\u001b[39m\u001b[38;5;124m'\u001b[39m})\n",
      "\u001b[1;31mTypeError\u001b[0m: f15() takes 0 positional arguments but 1 was given"
     ]
    }
   ],
   "source": [
    "f15({'a':'apple'})"
   ]
  },
  {
   "cell_type": "code",
   "execution_count": 195,
   "id": "433c67d4-cd6e-4941-ad7f-25d401608859",
   "metadata": {},
   "outputs": [
    {
     "ename": "SyntaxError",
     "evalue": "expression cannot contain assignment, perhaps you meant \"==\"? (4191033299.py, line 1)",
     "output_type": "error",
     "traceback": [
      "\u001b[1;36m  Cell \u001b[1;32mIn[195], line 1\u001b[1;36m\u001b[0m\n\u001b[1;33m    f15('a' = 3)\u001b[0m\n\u001b[1;37m        ^\u001b[0m\n\u001b[1;31mSyntaxError\u001b[0m\u001b[1;31m:\u001b[0m expression cannot contain assignment, perhaps you meant \"==\"?\n"
     ]
    }
   ],
   "source": [
    "f15('a' = 3)"
   ]
  },
  {
   "cell_type": "code",
   "execution_count": 197,
   "id": "f6c21809-3387-42aa-9a21-d9d62f738854",
   "metadata": {},
   "outputs": [
    {
     "name": "stdout",
     "output_type": "stream",
     "text": [
      "{'a': 'apple'}\n"
     ]
    }
   ],
   "source": [
    "f15(a = 'apple')"
   ]
  },
  {
   "cell_type": "code",
   "execution_count": 199,
   "id": "8503ef7f-58ac-4cec-be7c-20cc74302ff6",
   "metadata": {},
   "outputs": [],
   "source": [
    "def f16(gift,**values):\n",
    "    print(gift,values)"
   ]
  },
  {
   "cell_type": "code",
   "execution_count": 201,
   "id": "899f279a-91e4-412c-b5a0-335a905a4ccd",
   "metadata": {},
   "outputs": [
    {
     "name": "stdout",
     "output_type": "stream",
     "text": [
      "hongsam {}\n"
     ]
    }
   ],
   "source": [
    "f16('hongsam')"
   ]
  },
  {
   "cell_type": "code",
   "execution_count": 203,
   "id": "c661e507-4b18-4125-b8ed-1f1530d0ba67",
   "metadata": {},
   "outputs": [],
   "source": [
    "def f17(**dic):\n",
    "    print(dic)"
   ]
  },
  {
   "cell_type": "code",
   "execution_count": 215,
   "id": "ba64bc70-219e-4313-8f3a-ebe66da114cc",
   "metadata": {},
   "outputs": [],
   "source": [
    "def f17(menu='bul', **dic):\n",
    "    print(menu, dic)"
   ]
  },
  {
   "cell_type": "code",
   "execution_count": 217,
   "id": "eb748148-883a-4014-9b6d-837fe5076d23",
   "metadata": {},
   "outputs": [
    {
     "name": "stdout",
     "output_type": "stream",
     "text": [
      "bul {}\n"
     ]
    }
   ],
   "source": [
    "f17()"
   ]
  },
  {
   "cell_type": "code",
   "execution_count": 219,
   "id": "e6c07835-5d0d-4455-9c4f-625673cbdc70",
   "metadata": {},
   "outputs": [
    {
     "name": "stdout",
     "output_type": "stream",
     "text": [
      "meon {}\n"
     ]
    }
   ],
   "source": [
    "f17('meon')"
   ]
  },
  {
   "cell_type": "code",
   "execution_count": 225,
   "id": "23738bf7-621f-4d96-8b76-1da2de27df43",
   "metadata": {},
   "outputs": [
    {
     "ename": "SyntaxError",
     "evalue": "expression cannot contain assignment, perhaps you meant \"==\"? (2220971936.py, line 1)",
     "output_type": "error",
     "traceback": [
      "\u001b[1;36m  Cell \u001b[1;32mIn[225], line 1\u001b[1;36m\u001b[0m\n\u001b[1;33m    f17('meon','tang'= '1')\u001b[0m\n\u001b[1;37m               ^\u001b[0m\n\u001b[1;31mSyntaxError\u001b[0m\u001b[1;31m:\u001b[0m expression cannot contain assignment, perhaps you meant \"==\"?\n"
     ]
    }
   ],
   "source": [
    "f17('meon','tang'= '1')"
   ]
  },
  {
   "cell_type": "code",
   "execution_count": 227,
   "id": "05681502-c12d-4fed-93f8-85ecd1cc3bc8",
   "metadata": {},
   "outputs": [
    {
     "name": "stdout",
     "output_type": "stream",
     "text": [
      "meon {'sub': 'tang'}\n"
     ]
    }
   ],
   "source": [
    "f17('meon',sub = 'tang')"
   ]
  },
  {
   "cell_type": "code",
   "execution_count": 229,
   "id": "2325226b-de61-408c-8e9e-8050a1c1cd5e",
   "metadata": {},
   "outputs": [
    {
     "name": "stdout",
     "output_type": "stream",
     "text": [
      "meon {'sub': 'tang', 'source': 'soy'}\n"
     ]
    }
   ],
   "source": [
    "f17('meon',sub = 'tang', source = 'soy')"
   ]
  },
  {
   "cell_type": "code",
   "execution_count": 231,
   "id": "97118674-b4bf-42a3-84c1-e11b58a3198c",
   "metadata": {},
   "outputs": [
    {
     "name": "stdout",
     "output_type": "stream",
     "text": [
      "meon {'sub': 'tang', 'source': 'soy'}\n"
     ]
    }
   ],
   "source": [
    "f17(menu = 'meon',sub = 'tang', source = 'soy')"
   ]
  },
  {
   "cell_type": "code",
   "execution_count": 233,
   "id": "16154e1b-d54c-4e17-8d3c-84dc175acebb",
   "metadata": {},
   "outputs": [
    {
     "ename": "SyntaxError",
     "evalue": "keyword argument repeated: menu (2238866472.py, line 1)",
     "output_type": "error",
     "traceback": [
      "\u001b[1;36m  Cell \u001b[1;32mIn[233], line 1\u001b[1;36m\u001b[0m\n\u001b[1;33m    f17(menu = 'meon',menu = 'tang', source = 'soy')\u001b[0m\n\u001b[1;37m                      ^\u001b[0m\n\u001b[1;31mSyntaxError\u001b[0m\u001b[1;31m:\u001b[0m keyword argument repeated: menu\n"
     ]
    }
   ],
   "source": [
    "f17(menu = 'meon',menu = 'tang', source = 'soy')"
   ]
  },
  {
   "cell_type": "code",
   "execution_count": 235,
   "id": "e34f88e4-89b0-41c5-892c-0c0396ae1d65",
   "metadata": {},
   "outputs": [],
   "source": [
    "def f19(gift, menu = 'rice',**dic):\n",
    "    print(gift, menu, dic)"
   ]
  },
  {
   "cell_type": "code",
   "execution_count": 237,
   "id": "f086f8bc-8354-46da-83dd-04e6d64b6aa2",
   "metadata": {},
   "outputs": [
    {
     "name": "stdout",
     "output_type": "stream",
     "text": [
      "pine rice {}\n"
     ]
    }
   ],
   "source": [
    "f19('pine')"
   ]
  },
  {
   "cell_type": "code",
   "execution_count": 239,
   "id": "5e6b89a2-c6c7-4b65-b19e-a7f80de87cb2",
   "metadata": {},
   "outputs": [
    {
     "name": "stdout",
     "output_type": "stream",
     "text": [
      "meon rice {'sub': 'con'}\n"
     ]
    }
   ],
   "source": [
    "f19('meon', sub = 'con')"
   ]
  },
  {
   "cell_type": "code",
   "execution_count": 241,
   "id": "af0cb6af-e14a-464a-acf8-326f8697b5be",
   "metadata": {},
   "outputs": [],
   "source": [
    "def f20(gift, menu = 'rice', *values, **dic):\n",
    "    print(gift, menu, values, dic)"
   ]
  },
  {
   "cell_type": "code",
   "execution_count": 243,
   "id": "22e7e630-287c-40e0-a841-970c92676943",
   "metadata": {},
   "outputs": [
    {
     "name": "stdout",
     "output_type": "stream",
     "text": [
      "flower rice () {}\n"
     ]
    }
   ],
   "source": [
    "f20('flower')"
   ]
  },
  {
   "cell_type": "code",
   "execution_count": 245,
   "id": "caeebdac-14c4-44bc-87cd-baa464434a4b",
   "metadata": {},
   "outputs": [
    {
     "name": "stdout",
     "output_type": "stream",
     "text": [
      "a b () {}\n"
     ]
    }
   ],
   "source": [
    "f20('a','b')"
   ]
  },
  {
   "cell_type": "code",
   "execution_count": 247,
   "id": "5f693bca-d7aa-4051-b7e1-e0c0697ff577",
   "metadata": {},
   "outputs": [
    {
     "name": "stdout",
     "output_type": "stream",
     "text": [
      "a b (1, 2, 3) {}\n"
     ]
    }
   ],
   "source": [
    "f20('a','b', 1,2,3)"
   ]
  },
  {
   "cell_type": "code",
   "execution_count": 249,
   "id": "f380e4e4-63ca-459c-8738-86ca9db0ac3c",
   "metadata": {},
   "outputs": [],
   "source": [
    "def f(gift, menu = 'a', *values, **dic):\n",
    "    print(gift, menu, values, dic)"
   ]
  },
  {
   "cell_type": "code",
   "execution_count": null,
   "id": "8064c505-6355-4431-a5d0-5bb39229fd8b",
   "metadata": {},
   "outputs": [],
   "source": []
  }
 ],
 "metadata": {
  "kernelspec": {
   "display_name": "Python 3 (ipykernel)",
   "language": "python",
   "name": "python3"
  },
  "language_info": {
   "codemirror_mode": {
    "name": "ipython",
    "version": 3
   },
   "file_extension": ".py",
   "mimetype": "text/x-python",
   "name": "python",
   "nbconvert_exporter": "python",
   "pygments_lexer": "ipython3",
   "version": "3.12.4"
  }
 },
 "nbformat": 4,
 "nbformat_minor": 5
}
