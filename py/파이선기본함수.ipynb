{
 "cells": [
  {
   "cell_type": "code",
   "execution_count": 3,
   "id": "bc20e03f-18ac-4ef7-b9ae-2664aa43203c",
   "metadata": {},
   "outputs": [
    {
     "data": {
      "text/plain": [
       "1"
      ]
     },
     "execution_count": 3,
     "metadata": {},
     "output_type": "execute_result"
    }
   ],
   "source": [
    "min([50,1,100,300,2,7,55])"
   ]
  },
  {
   "cell_type": "code",
   "execution_count": 5,
   "id": "cd1c6ad2-6781-4611-9225-c7f34294bd98",
   "metadata": {},
   "outputs": [
    {
     "data": {
      "text/plain": [
       "14"
      ]
     },
     "execution_count": 5,
     "metadata": {},
     "output_type": "execute_result"
    }
   ],
   "source": [
    "sum([3,4,7])"
   ]
  },
  {
   "cell_type": "code",
   "execution_count": 7,
   "id": "279f135d-d931-4aaf-aa11-b0b7ba3b3ae6",
   "metadata": {},
   "outputs": [
    {
     "data": {
      "text/plain": [
       "[1, 2, 7, 50, 55, 100, 300]"
      ]
     },
     "execution_count": 7,
     "metadata": {},
     "output_type": "execute_result"
    }
   ],
   "source": [
    "sorted([50,1,100,300,2,7,55])"
   ]
  },
  {
   "cell_type": "code",
   "execution_count": 9,
   "id": "826f8fdb-a67c-4515-b94b-27c1a1e6916d",
   "metadata": {},
   "outputs": [],
   "source": [
    "li1 = [50,1,100,300,2,7,55]"
   ]
  },
  {
   "cell_type": "code",
   "execution_count": 11,
   "id": "fe654142-399e-4d0f-8e5a-59000b8b85f6",
   "metadata": {},
   "outputs": [
    {
     "data": {
      "text/plain": [
       "list"
      ]
     },
     "execution_count": 11,
     "metadata": {},
     "output_type": "execute_result"
    }
   ],
   "source": [
    "type(li1)"
   ]
  },
  {
   "cell_type": "code",
   "execution_count": 13,
   "id": "88fb7934-ced2-4149-a9ed-2a5e4c70a21d",
   "metadata": {},
   "outputs": [],
   "source": [
    "li1.sort()"
   ]
  },
  {
   "cell_type": "code",
   "execution_count": 15,
   "id": "572c4511-89da-4fa8-b01b-bc3492e75acc",
   "metadata": {},
   "outputs": [
    {
     "data": {
      "text/plain": [
       "[1, 2, 7, 50, 55, 100, 300]"
      ]
     },
     "execution_count": 15,
     "metadata": {},
     "output_type": "execute_result"
    }
   ],
   "source": [
    "li1"
   ]
  },
  {
   "cell_type": "code",
   "execution_count": 17,
   "id": "558a9ae0-b616-4f7d-8ba2-c84d350fc2f7",
   "metadata": {},
   "outputs": [],
   "source": [
    "li1.reverse()"
   ]
  },
  {
   "cell_type": "code",
   "execution_count": 19,
   "id": "1ebbc4cf-8cbe-47bb-9b6b-f8c749f98710",
   "metadata": {},
   "outputs": [
    {
     "data": {
      "text/plain": [
       "[300, 100, 55, 50, 7, 2, 1]"
      ]
     },
     "execution_count": 19,
     "metadata": {},
     "output_type": "execute_result"
    }
   ],
   "source": [
    "li1"
   ]
  },
  {
   "cell_type": "code",
   "execution_count": 23,
   "id": "5e0a9bb7-4d5b-4f5a-9abb-9441dad9017c",
   "metadata": {},
   "outputs": [
    {
     "name": "stdout",
     "output_type": "stream",
     "text": [
      "55\n",
      "7\n",
      "2\n",
      "300\n",
      "100\n",
      "1\n",
      "50\n"
     ]
    }
   ],
   "source": [
    "for i in reversed([50,1,100,300,2,7,55]):\n",
    "    print(i)"
   ]
  },
  {
   "cell_type": "code",
   "execution_count": 25,
   "id": "93624a4f-3895-4d27-8e8d-5423498b8475",
   "metadata": {},
   "outputs": [
    {
     "data": {
      "text/plain": [
       "<list_reverseiterator at 0x25b1c3d1390>"
      ]
     },
     "execution_count": 25,
     "metadata": {},
     "output_type": "execute_result"
    }
   ],
   "source": [
    "reversed([1,2,3,4,5])"
   ]
  },
  {
   "cell_type": "code",
   "execution_count": 27,
   "id": "f693dc8a-57ae-4094-83dd-2c2a8c69afd4",
   "metadata": {},
   "outputs": [
    {
     "data": {
      "text/plain": [
       "[5, 4, 3, 2, 1]"
      ]
     },
     "execution_count": 27,
     "metadata": {},
     "output_type": "execute_result"
    }
   ],
   "source": [
    "list(reversed([1,2,3,4,5]))"
   ]
  },
  {
   "cell_type": "code",
   "execution_count": 29,
   "id": "3a07ee56-7b24-41d9-bc67-ba770154efc5",
   "metadata": {},
   "outputs": [],
   "source": [
    "li2 = list(reversed([1,2,3,4,5]))"
   ]
  },
  {
   "cell_type": "code",
   "execution_count": 31,
   "id": "9ecc1a4e-c781-410f-9acd-a734c5b98920",
   "metadata": {},
   "outputs": [
    {
     "name": "stdout",
     "output_type": "stream",
     "text": [
      "5\n",
      "4\n",
      "3\n",
      "2\n",
      "1\n"
     ]
    }
   ],
   "source": [
    "for i in li2:\n",
    "    print(i)"
   ]
  },
  {
   "cell_type": "code",
   "execution_count": null,
   "id": "c1af1e87-71a1-4519-86af-a7c15eb3fa87",
   "metadata": {},
   "outputs": [],
   "source": [
    "# enumerate 열가하다, 열거하면 순서 개념이 생김"
   ]
  },
  {
   "cell_type": "code",
   "execution_count": 33,
   "id": "3a0d3768-0a37-419d-823d-6979d6bc552a",
   "metadata": {},
   "outputs": [
    {
     "data": {
      "text/plain": [
       "<enumerate at 0x25b1ea2e700>"
      ]
     },
     "execution_count": 33,
     "metadata": {},
     "output_type": "execute_result"
    }
   ],
   "source": [
    "enumerate(['apple','banana','candy'])"
   ]
  },
  {
   "cell_type": "code",
   "execution_count": 35,
   "id": "6ec52999-b55f-48e8-b60b-cf06df1d2b74",
   "metadata": {},
   "outputs": [
    {
     "data": {
      "text/plain": [
       "enumerate"
      ]
     },
     "execution_count": 35,
     "metadata": {},
     "output_type": "execute_result"
    }
   ],
   "source": [
    "type(enumerate(['apple','banana','candy']))"
   ]
  },
  {
   "cell_type": "code",
   "execution_count": 37,
   "id": "807299d6-aa2f-49f9-bc17-db8f14d054db",
   "metadata": {},
   "outputs": [
    {
     "name": "stdout",
     "output_type": "stream",
     "text": [
      "(0, 'apple')\n",
      "(1, 'banana')\n",
      "(2, 'candy')\n"
     ]
    }
   ],
   "source": [
    "for i in enumerate(['apple','banana','candy']):\n",
    "    print(i)"
   ]
  },
  {
   "cell_type": "code",
   "execution_count": 43,
   "id": "4df0ae4b-80f9-4329-84f3-84ea29518bee",
   "metadata": {},
   "outputs": [
    {
     "name": "stdout",
     "output_type": "stream",
     "text": [
      "0번째 값이 apple(이)다.\n",
      "1번째 값이 banana(이)다.\n",
      "2번째 값이 candy(이)다.\n"
     ]
    }
   ],
   "source": [
    "for idx, v in enumerate(['apple','banana','candy']):\n",
    "    print(f'{idx}번째 값이 {v}(이)다.')"
   ]
  },
  {
   "cell_type": "code",
   "execution_count": 75,
   "id": "02287f70-0806-43be-b015-e69f4371dda3",
   "metadata": {},
   "outputs": [
    {
     "name": "stdout",
     "output_type": "stream",
     "text": [
      "전체 합은 1047(이)다\n",
      "최대값은 908이고 최소값은 2이다\n",
      "0번째 값이 2(이)다.\n",
      "1번째 값이 6(이)다.\n",
      "2번째 값이 55(이)다.\n",
      "3번째 값이 76(이)다.\n",
      "4번째 값이 908(이)다.\n"
     ]
    }
   ],
   "source": [
    "li = sorted([6,55,76,908,2])\n",
    "\n",
    "for i in li:\n",
    "    reslt = sum(li)\n",
    "    max_num = max(li)\n",
    "    min_num = min(li)\n",
    "print(f'전체 합은 {reslt}(이)다')\n",
    "print(f'최대값은 {max_num}이고 최소값은 {min_num}이다')\n",
    "\n",
    "li2 = enumerate(li)\n",
    "for i, v in li2:\n",
    "    print(f'{i}번째 값이 {v}(이)다.')\n",
    "    "
   ]
  },
  {
   "cell_type": "code",
   "execution_count": 77,
   "id": "6f37021f-9312-42e8-b7ba-2579ad629be7",
   "metadata": {},
   "outputs": [
    {
     "data": {
      "text/plain": [
       "[5, 4, 3, 2, 1]"
      ]
     },
     "execution_count": 77,
     "metadata": {},
     "output_type": "execute_result"
    }
   ],
   "source": [
    "list(reversed([1,2,3,4,5]))"
   ]
  },
  {
   "cell_type": "code",
   "execution_count": 79,
   "id": "5d185ce7-1560-4513-a120-be365b9e8b0a",
   "metadata": {},
   "outputs": [
    {
     "ename": "NameError",
     "evalue": "name 'rev' is not defined",
     "output_type": "error",
     "traceback": [
      "\u001b[1;31m---------------------------------------------------------------------------\u001b[0m",
      "\u001b[1;31mNameError\u001b[0m                                 Traceback (most recent call last)",
      "Cell \u001b[1;32mIn[79], line 1\u001b[0m\n\u001b[1;32m----> 1\u001b[0m \u001b[38;5;28mnext\u001b[39m(rev)\n",
      "\u001b[1;31mNameError\u001b[0m: name 'rev' is not defined"
     ]
    }
   ],
   "source": [
    "next(rev)"
   ]
  },
  {
   "cell_type": "code",
   "execution_count": 81,
   "id": "63ac8056-456a-45b6-96c5-d8d204da089e",
   "metadata": {},
   "outputs": [],
   "source": [
    "rev = reversed([1,2,3,4,5])"
   ]
  },
  {
   "cell_type": "code",
   "execution_count": 83,
   "id": "294743ab-1c91-4658-9636-ab7fe078be6b",
   "metadata": {},
   "outputs": [
    {
     "data": {
      "text/plain": [
       "5"
      ]
     },
     "execution_count": 83,
     "metadata": {},
     "output_type": "execute_result"
    }
   ],
   "source": [
    "next(rev)"
   ]
  },
  {
   "cell_type": "code",
   "execution_count": 85,
   "id": "ae469aad-6123-4af7-9e38-9ac4100b8578",
   "metadata": {},
   "outputs": [
    {
     "name": "stdout",
     "output_type": "stream",
     "text": [
      "Help on built-in function next in module builtins:\n",
      "\n",
      "next(...)\n",
      "    Return the next item from the iterator.\n",
      "\n",
      "    If default is given and the iterator is exhausted,\n",
      "    it is returned instead of raising StopIteration.\n",
      "\n"
     ]
    }
   ],
   "source": [
    "help(next)"
   ]
  },
  {
   "cell_type": "code",
   "execution_count": 87,
   "id": "1bb36c1b-7bd2-4e22-b17d-2eb041712265",
   "metadata": {},
   "outputs": [],
   "source": [
    "# 리스트 내포 : 한 줄에 리스트로 표현해라"
   ]
  },
  {
   "cell_type": "code",
   "execution_count": null,
   "id": "d9365565-6d81-4ecb-b54d-7fc2d5db1da8",
   "metadata": {},
   "outputs": [],
   "source": [
    "# iterable : 문자열, 리스트, 튜플, 딕셔너리"
   ]
  },
  {
   "cell_type": "code",
   "execution_count": null,
   "id": "a3be326f-a3b0-4ea9-bfa0-d73d174237f3",
   "metadata": {},
   "outputs": [],
   "source": [
    "# [i의 표현형태 for i in iterable]"
   ]
  },
  {
   "cell_type": "code",
   "execution_count": 89,
   "id": "afe71ff4-fed3-40bd-a61d-60d7c5279ad3",
   "metadata": {},
   "outputs": [],
   "source": [
    "# 반복문을 한 줄에 쳐야 할 때"
   ]
  },
  {
   "cell_type": "code",
   "execution_count": 91,
   "id": "021c2f91-9e74-4010-81ec-a99ef4790ded",
   "metadata": {},
   "outputs": [
    {
     "name": "stdout",
     "output_type": "stream",
     "text": [
      "1\n",
      "2\n",
      "3\n"
     ]
    }
   ],
   "source": [
    "for i in [1,2,3]:\n",
    "    print(i)"
   ]
  },
  {
   "cell_type": "code",
   "execution_count": 93,
   "id": "f8656426-81dd-4c7d-82fb-63de844bf494",
   "metadata": {},
   "outputs": [
    {
     "data": {
      "text/plain": [
       "[1, 2, 3]"
      ]
     },
     "execution_count": 93,
     "metadata": {},
     "output_type": "execute_result"
    }
   ],
   "source": [
    "[i for i in [1,2,3]]"
   ]
  },
  {
   "cell_type": "code",
   "execution_count": 95,
   "id": "e6ba8699-ec1d-417b-ad23-55f94bafdbb4",
   "metadata": {},
   "outputs": [
    {
     "data": {
      "text/plain": [
       "[0.5, 1.0, 1.5]"
      ]
     },
     "execution_count": 95,
     "metadata": {},
     "output_type": "execute_result"
    }
   ],
   "source": [
    "[i/2 for i in [1,2,3]]"
   ]
  },
  {
   "cell_type": "code",
   "execution_count": 97,
   "id": "12db8e51-9cbe-4356-a24b-3b86ac6bdeba",
   "metadata": {},
   "outputs": [],
   "source": [
    "li3 = [i/2 for i in [1,2,3]]"
   ]
  },
  {
   "cell_type": "code",
   "execution_count": 99,
   "id": "afc7f328-86d9-4c77-a20e-ad444482eb73",
   "metadata": {},
   "outputs": [
    {
     "data": {
      "text/plain": [
       "[0.5, 1.0, 1.5]"
      ]
     },
     "execution_count": 99,
     "metadata": {},
     "output_type": "execute_result"
    }
   ],
   "source": [
    "li3"
   ]
  },
  {
   "cell_type": "code",
   "execution_count": 103,
   "id": "723a2dc6-b82c-4a74-ae36-7714245529f1",
   "metadata": {},
   "outputs": [
    {
     "name": "stdout",
     "output_type": "stream",
     "text": [
      "2\n",
      "4\n",
      "6\n",
      "8\n",
      "10\n"
     ]
    }
   ],
   "source": [
    "for i in range(1,10+1):\n",
    "    if i % 2 ==0:\n",
    "        print(i)"
   ]
  },
  {
   "cell_type": "code",
   "execution_count": 109,
   "id": "36082889-708f-42b4-9318-56a6c0832d5d",
   "metadata": {},
   "outputs": [
    {
     "data": {
      "text/plain": [
       "[4, 16, 36, 64, 100]"
      ]
     },
     "execution_count": 109,
     "metadata": {},
     "output_type": "execute_result"
    }
   ],
   "source": [
    "[i**2 for i in range(1,11) if i % 2 ==0]"
   ]
  },
  {
   "cell_type": "code",
   "execution_count": 113,
   "id": "5580fcac-9d01-4d1d-9824-c5ad1fe09b8d",
   "metadata": {},
   "outputs": [
    {
     "name": "stdout",
     "output_type": "stream",
     "text": [
      "hi\n",
      "did\n",
      "you\n",
      "have\n",
      "nice\n",
      "lunch\n",
      "\n"
     ]
    }
   ],
   "source": [
    "print('''hi\n",
    "did\n",
    "you\n",
    "have\n",
    "nice\n",
    "lunch\n",
    "''')"
   ]
  },
  {
   "cell_type": "code",
   "execution_count": 115,
   "id": "f3c6c1b8-9a6b-467e-aa26-292318ba3788",
   "metadata": {},
   "outputs": [],
   "source": [
    "# 문자열 함수"
   ]
  },
  {
   "cell_type": "code",
   "execution_count": 119,
   "id": "bc782322-125f-4065-81da-e131efa91217",
   "metadata": {},
   "outputs": [
    {
     "data": {
      "text/plain": [
       "['hey', 'did', 'you', 'have', 'nice', 'lunch']"
      ]
     },
     "execution_count": 119,
     "metadata": {},
     "output_type": "execute_result"
    }
   ],
   "source": [
    "\"hey did you have nice lunch\".split()"
   ]
  },
  {
   "cell_type": "code",
   "execution_count": 121,
   "id": "122f6030-0673-4108-9e87-ffdf6ef30bdb",
   "metadata": {},
   "outputs": [
    {
     "name": "stdout",
     "output_type": "stream",
     "text": [
      "hey\n",
      "did\n",
      "you\n",
      "have\n",
      "nice\n",
      "lunch\n"
     ]
    }
   ],
   "source": [
    "for i in \"hey did you have nice lunch\".split():\n",
    "    print(i)"
   ]
  },
  {
   "cell_type": "code",
   "execution_count": 125,
   "id": "d02dec19-b0b5-4b86-bec1-b7a218821aea",
   "metadata": {},
   "outputs": [
    {
     "name": "stdout",
     "output_type": "stream",
     "text": [
      "hey\n",
      "did\n",
      "you\n",
      "have\n",
      "nice\n",
      "lunch\n"
     ]
    }
   ],
   "source": [
    "for i in \"hey,did,you,have,nice,lunch\".split(','):\n",
    "    print(i)"
   ]
  },
  {
   "cell_type": "code",
   "execution_count": 127,
   "id": "85f1c148-290c-412b-915b-06ced189589c",
   "metadata": {},
   "outputs": [
    {
     "data": {
      "text/plain": [
       "['hey', 'did', 'you', 'have', 'nice', 'lunch']"
      ]
     },
     "execution_count": 127,
     "metadata": {},
     "output_type": "execute_result"
    }
   ],
   "source": [
    "[i for i in \"hey,did,you,have,nice,lunch\".split(',')]"
   ]
  },
  {
   "cell_type": "code",
   "execution_count": 129,
   "id": "6e05d510-7116-4079-93b5-2d70a5ac19e7",
   "metadata": {},
   "outputs": [],
   "source": [
    "li5 = [i for i in \"hey,did,you,have,nice,lunch\".split(',')]"
   ]
  },
  {
   "cell_type": "code",
   "execution_count": 131,
   "id": "60693fdd-5905-4408-bc36-ede87ac9a0b4",
   "metadata": {},
   "outputs": [],
   "source": [
    "# hey*did*you*have*nice*lunch"
   ]
  },
  {
   "cell_type": "code",
   "execution_count": 135,
   "id": "09907e1e-5044-4554-b3f1-72c3f12b2ee8",
   "metadata": {},
   "outputs": [
    {
     "data": {
      "text/plain": [
       "'hey did you have nice lunch'"
      ]
     },
     "execution_count": 135,
     "metadata": {},
     "output_type": "execute_result"
    }
   ],
   "source": [
    "\" \".join(li5)"
   ]
  },
  {
   "cell_type": "code",
   "execution_count": 137,
   "id": "6a600423-be75-4f71-b4a2-42cf67447df4",
   "metadata": {},
   "outputs": [],
   "source": [
    "a = 'hi hello do you know kimchi'"
   ]
  },
  {
   "cell_type": "code",
   "execution_count": 139,
   "id": "6cd18f37-7047-408e-8238-ac3bbb70a180",
   "metadata": {},
   "outputs": [
    {
     "data": {
      "text/plain": [
       "['hi', 'hello', 'do', 'you', 'know', 'kimchi']"
      ]
     },
     "execution_count": 139,
     "metadata": {},
     "output_type": "execute_result"
    }
   ],
   "source": [
    "a.split()"
   ]
  },
  {
   "cell_type": "code",
   "execution_count": 147,
   "id": "b0834ef8-ce2a-4ca3-a209-7f4b812e5ae9",
   "metadata": {},
   "outputs": [],
   "source": [
    "b = [i*2 for i in a.split()]"
   ]
  },
  {
   "cell_type": "code",
   "execution_count": 149,
   "id": "7fc02c52-6d62-41fc-bbf4-21304b58181f",
   "metadata": {},
   "outputs": [
    {
     "data": {
      "text/plain": [
       "'hihi*hellohello*dodo*youyou*knowknow*kimchikimchi'"
      ]
     },
     "execution_count": 149,
     "metadata": {},
     "output_type": "execute_result"
    }
   ],
   "source": [
    "'*'.join(b)"
   ]
  },
  {
   "cell_type": "code",
   "execution_count": 151,
   "id": "1dc3e931-719f-459c-8c79-85df88dc45ec",
   "metadata": {},
   "outputs": [],
   "source": [
    "a = 'can you eat tteokbokki'"
   ]
  },
  {
   "cell_type": "code",
   "execution_count": 153,
   "id": "8943a7fc-7a16-4271-9957-9132a91dab4f",
   "metadata": {},
   "outputs": [
    {
     "data": {
      "text/plain": [
       "'can you eat tteokbokki'"
      ]
     },
     "execution_count": 153,
     "metadata": {},
     "output_type": "execute_result"
    }
   ],
   "source": [
    "''.join(a)"
   ]
  },
  {
   "cell_type": "code",
   "execution_count": 155,
   "id": "a5e37342-d416-4e01-91c0-900f352f47e1",
   "metadata": {},
   "outputs": [
    {
     "data": {
      "text/plain": [
       "'1010'"
      ]
     },
     "execution_count": 155,
     "metadata": {},
     "output_type": "execute_result"
    }
   ],
   "source": [
    "'{:b}'.format(10)"
   ]
  },
  {
   "cell_type": "code",
   "execution_count": null,
   "id": "f0223487-784b-45a6-a8d8-2b906bd8b836",
   "metadata": {},
   "outputs": [],
   "source": [
    "output = \n",
    "\n",
    "for i in :\n"
   ]
  }
 ],
 "metadata": {
  "kernelspec": {
   "display_name": "Python 3 (ipykernel)",
   "language": "python",
   "name": "python3"
  },
  "language_info": {
   "codemirror_mode": {
    "name": "ipython",
    "version": 3
   },
   "file_extension": ".py",
   "mimetype": "text/x-python",
   "name": "python",
   "nbconvert_exporter": "python",
   "pygments_lexer": "ipython3",
   "version": "3.12.4"
  }
 },
 "nbformat": 4,
 "nbformat_minor": 5
}
