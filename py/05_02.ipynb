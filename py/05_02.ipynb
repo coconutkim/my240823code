{
 "cells": [
  {
   "cell_type": "code",
   "execution_count": 3,
   "id": "32fc2aba-0d9d-4c68-8046-8cc395a82c32",
   "metadata": {},
   "outputs": [],
   "source": [
    "# 팩토리얼 함수 정의"
   ]
  },
  {
   "cell_type": "code",
   "execution_count": 3,
   "id": "106aa37e-9d75-48d0-954a-7cadf6894a1c",
   "metadata": {},
   "outputs": [],
   "source": [
    "def factorial(n):\n",
    "    if n==1:\n",
    "        return 1\n",
    "    return n*factorial(n-1)"
   ]
  },
  {
   "cell_type": "code",
   "execution_count": 9,
   "id": "0f5c8d72-855e-4b3d-9698-3fcb124aa1bd",
   "metadata": {},
   "outputs": [
    {
     "data": {
      "text/plain": [
       "6"
      ]
     },
     "execution_count": 9,
     "metadata": {},
     "output_type": "execute_result"
    }
   ],
   "source": [
    "factorial(3)"
   ]
  },
  {
   "cell_type": "code",
   "execution_count": 19,
   "id": "4e080307-41ca-4e43-a105-3c45b80caf5a",
   "metadata": {},
   "outputs": [],
   "source": [
    "def factorial(n):\n",
    "    if n ==1:\n",
    "        return 1\n",
    "    return n*factorial(n-1)"
   ]
  },
  {
   "cell_type": "code",
   "execution_count": 21,
   "id": "411f1ea9-e987-4ec7-83ef-8f3be20201e0",
   "metadata": {},
   "outputs": [],
   "source": [
    "# 피보나치 :첫째 및 둘째 항이  1이며 그 뒤의 모든 항은 바로 앞 두 항의 합인 수열"
   ]
  },
  {
   "cell_type": "code",
   "execution_count": 13,
   "id": "e979a077-a0da-4e23-8d3b-748a6a37a374",
   "metadata": {},
   "outputs": [],
   "source": [
    "def fibonacci(n):\n",
    "    if n==1:\n",
    "        return 1\n",
    "    if n==2:\n",
    "        return 1\n",
    "    return fibonacci(n-1)+fibonacci(n-2)"
   ]
  },
  {
   "cell_type": "code",
   "execution_count": 19,
   "id": "6a88e9f7-154f-407d-8212-4083bb4acbd0",
   "metadata": {},
   "outputs": [
    {
     "data": {
      "text/plain": [
       "5"
      ]
     },
     "execution_count": 19,
     "metadata": {},
     "output_type": "execute_result"
    }
   ],
   "source": [
    "fibonacci(5)"
   ]
  },
  {
   "cell_type": "code",
   "execution_count": 27,
   "id": "fff2ddcd-8f64-473a-b81b-176d336fd202",
   "metadata": {},
   "outputs": [
    {
     "data": {
      "text/plain": [
       "1"
      ]
     },
     "execution_count": 27,
     "metadata": {},
     "output_type": "execute_result"
    }
   ],
   "source": [
    "fibonacci(2)"
   ]
  },
  {
   "cell_type": "code",
   "execution_count": null,
   "id": "a1a9aff4-13af-4470-922f-39058642891e",
   "metadata": {},
   "outputs": [],
   "source": [
    "fibonacci(3)"
   ]
  },
  {
   "cell_type": "code",
   "execution_count": 31,
   "id": "233905fd-3112-4a7c-99a3-c5bb57a69e89",
   "metadata": {},
   "outputs": [],
   "source": [
    "# 메모화"
   ]
  },
  {
   "cell_type": "code",
   "execution_count": 33,
   "id": "ea5d7187-fad3-4334-a6a9-efae76ebc0ef",
   "metadata": {},
   "outputs": [],
   "source": [
    "dictionary={\n",
    "    1:1,\n",
    "    2:1\n",
    "}"
   ]
  },
  {
   "cell_type": "code",
   "execution_count": 43,
   "id": "ca129190-5cd3-4ebe-8a18-f4b947be700b",
   "metadata": {},
   "outputs": [],
   "source": [
    "def fibonachi(n):\n",
    "    if n in dictionary:\n",
    "        return dictionary[n]\n",
    "    else:\n",
    "        output = fibonachi(n-1)+fibonachi(n-2)\n",
    "        dictionary[n] = output\n",
    "        return output"
   ]
  },
  {
   "cell_type": "code",
   "execution_count": 45,
   "id": "e7bcc35c-2357-4d50-ab91-ccfb04c6c7be",
   "metadata": {},
   "outputs": [
    {
     "data": {
      "text/plain": [
       "False"
      ]
     },
     "execution_count": 45,
     "metadata": {},
     "output_type": "execute_result"
    }
   ],
   "source": [
    "3 in dictionary"
   ]
  },
  {
   "cell_type": "code",
   "execution_count": 47,
   "id": "b6bfd809-95c8-46e3-b209-ca8489884235",
   "metadata": {},
   "outputs": [
    {
     "data": {
      "text/plain": [
       "2"
      ]
     },
     "execution_count": 47,
     "metadata": {},
     "output_type": "execute_result"
    }
   ],
   "source": [
    "fibonachi(3)"
   ]
  },
  {
   "cell_type": "code",
   "execution_count": 49,
   "id": "56d680c9-6a6e-4515-805a-05cf326ccabc",
   "metadata": {},
   "outputs": [
    {
     "data": {
      "text/plain": [
       "3"
      ]
     },
     "execution_count": 49,
     "metadata": {},
     "output_type": "execute_result"
    }
   ],
   "source": [
    "fibonachi(4)"
   ]
  },
  {
   "cell_type": "code",
   "execution_count": 51,
   "id": "91cc9fa4-b657-4d85-96d6-4fc492abecfc",
   "metadata": {},
   "outputs": [
    {
     "data": {
      "text/plain": [
       "5"
      ]
     },
     "execution_count": 51,
     "metadata": {},
     "output_type": "execute_result"
    }
   ],
   "source": [
    "fibonachi(5)"
   ]
  },
  {
   "cell_type": "code",
   "execution_count": 53,
   "id": "5c2c8a23-18f1-45a3-86ab-55c3129de14e",
   "metadata": {},
   "outputs": [
    {
     "data": {
      "text/plain": [
       "8"
      ]
     },
     "execution_count": 53,
     "metadata": {},
     "output_type": "execute_result"
    }
   ],
   "source": [
    "fibonachi(6)"
   ]
  },
  {
   "cell_type": "code",
   "execution_count": 55,
   "id": "479f2c37-b491-4995-aa97-24bfcbf29f46",
   "metadata": {},
   "outputs": [
    {
     "data": {
      "text/plain": [
       "12586269025"
      ]
     },
     "execution_count": 55,
     "metadata": {},
     "output_type": "execute_result"
    }
   ],
   "source": [
    "fibonachi(50)"
   ]
  },
  {
   "cell_type": "code",
   "execution_count": null,
   "id": "09455343-ecab-4ea8-a9d9-736424acbba6",
   "metadata": {},
   "outputs": [],
   "source": []
  }
 ],
 "metadata": {
  "kernelspec": {
   "display_name": "Python 3 (ipykernel)",
   "language": "python",
   "name": "python3"
  },
  "language_info": {
   "codemirror_mode": {
    "name": "ipython",
    "version": 3
   },
   "file_extension": ".py",
   "mimetype": "text/x-python",
   "name": "python",
   "nbconvert_exporter": "python",
   "pygments_lexer": "ipython3",
   "version": "3.12.4"
  }
 },
 "nbformat": 4,
 "nbformat_minor": 5
}
