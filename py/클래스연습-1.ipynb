{
 "cells": [
  {
   "cell_type": "code",
   "execution_count": 1,
   "id": "f3942d44-23ba-421f-8069-49582f53f22e",
   "metadata": {},
   "outputs": [],
   "source": [
    "class Calculator:\n",
    "    def __init__(self):\n",
    "        self.num1 = 0\n",
    "        self.num2 = 0\n",
    "    def add(self, num1, num2):\n",
    "        self.num1 = num1\n",
    "        self.num2 = num2\n",
    "        return self.num1+self.num2"
   ]
  },
  {
   "cell_type": "code",
   "execution_count": 3,
   "id": "d9ef637e-19ac-49b9-af3e-4f78573f0502",
   "metadata": {},
   "outputs": [],
   "source": [
    "mycalc  = Calculator()  #Calculator()"
   ]
  },
  {
   "cell_type": "code",
   "execution_count": 5,
   "id": "5b32cf16-8ee8-43c4-b256-082e56502ecd",
   "metadata": {},
   "outputs": [
    {
     "data": {
      "text/plain": [
       "0"
      ]
     },
     "execution_count": 5,
     "metadata": {},
     "output_type": "execute_result"
    }
   ],
   "source": [
    "mycalc.num1"
   ]
  },
  {
   "cell_type": "code",
   "execution_count": 7,
   "id": "3f1b24bb-75a0-4ffe-aad1-bf8e4c6c36b0",
   "metadata": {},
   "outputs": [
    {
     "data": {
      "text/plain": [
       "0"
      ]
     },
     "execution_count": 7,
     "metadata": {},
     "output_type": "execute_result"
    }
   ],
   "source": [
    "mycalc.num2"
   ]
  },
  {
   "cell_type": "code",
   "execution_count": 13,
   "id": "fc73c248-0086-434b-ae82-bd535e69f090",
   "metadata": {},
   "outputs": [],
   "source": [
    "result = mycalc.add(5,6)"
   ]
  },
  {
   "cell_type": "code",
   "execution_count": 15,
   "id": "1acf812c-4bfb-4064-9479-bf60382d59b2",
   "metadata": {},
   "outputs": [
    {
     "data": {
      "text/plain": [
       "5"
      ]
     },
     "execution_count": 15,
     "metadata": {},
     "output_type": "execute_result"
    }
   ],
   "source": [
    "mycalc.num1"
   ]
  },
  {
   "cell_type": "code",
   "execution_count": 19,
   "id": "2597f937-6910-4dd7-8f2f-9b71ee913270",
   "metadata": {},
   "outputs": [
    {
     "data": {
      "text/plain": [
       "6"
      ]
     },
     "execution_count": 19,
     "metadata": {},
     "output_type": "execute_result"
    }
   ],
   "source": [
    "mycalc.num2"
   ]
  },
  {
   "cell_type": "code",
   "execution_count": 21,
   "id": "4c19c537-9359-4fbc-8a1d-006d9a57ddee",
   "metadata": {},
   "outputs": [
    {
     "data": {
      "text/plain": [
       "11"
      ]
     },
     "execution_count": 21,
     "metadata": {},
     "output_type": "execute_result"
    }
   ],
   "source": [
    "result"
   ]
  },
  {
   "cell_type": "code",
   "execution_count": 23,
   "id": "2d209104-5731-48dc-a7ba-7a7fa3fda5ec",
   "metadata": {},
   "outputs": [],
   "source": [
    "class Student:\n",
    "    def __init__(self):\n",
    "        self.stu1 = 0\n",
    "        self.stu2 = 0\n",
    "    def add(self, stu1, stu2):\n",
    "        self.stu1 = stu1\n",
    "        self.stu2 = stu2\n",
    "        return '{self.stu1}는 공부를 열심히 하고 {self.stu2}는 망했다'\n",
    "        "
   ]
  },
  {
   "cell_type": "code",
   "execution_count": 25,
   "id": "da032209-7df7-4017-9f00-fbaf52a9a9b6",
   "metadata": {},
   "outputs": [],
   "source": [
    "mystudent = Student()"
   ]
  },
  {
   "cell_type": "code",
   "execution_count": null,
   "id": "380a5062-750c-4a57-b033-33a2a3469672",
   "metadata": {},
   "outputs": [],
   "source": []
  },
  {
   "cell_type": "code",
   "execution_count": null,
   "id": "76e1f938-d183-4a67-8dee-cb14aeb70deb",
   "metadata": {},
   "outputs": [],
   "source": []
  }
 ],
 "metadata": {
  "kernelspec": {
   "display_name": "Python 3 (ipykernel)",
   "language": "python",
   "name": "python3"
  },
  "language_info": {
   "codemirror_mode": {
    "name": "ipython",
    "version": 3
   },
   "file_extension": ".py",
   "mimetype": "text/x-python",
   "name": "python",
   "nbconvert_exporter": "python",
   "pygments_lexer": "ipython3",
   "version": "3.12.4"
  }
 },
 "nbformat": 4,
 "nbformat_minor": 5
}
