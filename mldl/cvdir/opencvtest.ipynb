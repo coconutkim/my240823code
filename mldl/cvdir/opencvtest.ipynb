{
 "cells": [
  {
   "cell_type": "code",
   "execution_count": 2,
   "metadata": {},
   "outputs": [],
   "source": [
    "import cv2 as cv"
   ]
  },
  {
   "cell_type": "code",
   "execution_count": 3,
   "metadata": {},
   "outputs": [],
   "source": [
    "import tensorflow as tf"
   ]
  },
  {
   "cell_type": "code",
   "execution_count": 4,
   "metadata": {},
   "outputs": [],
   "source": [
    "import numpy as np"
   ]
  },
  {
   "cell_type": "code",
   "execution_count": 5,
   "metadata": {},
   "outputs": [
    {
     "data": {
      "text/plain": [
       "'4.10.0'"
      ]
     },
     "execution_count": 5,
     "metadata": {},
     "output_type": "execute_result"
    }
   ],
   "source": [
    "cv.__version__"
   ]
  },
  {
   "cell_type": "code",
   "execution_count": 6,
   "metadata": {},
   "outputs": [],
   "source": [
    "img=cv.imread('C:/ex/py/mldl/cvdir/cat-7688749_1280.jpg')"
   ]
  },
  {
   "cell_type": "code",
   "execution_count": 7,
   "metadata": {},
   "outputs": [
    {
     "data": {
      "text/plain": [
       "array([[[18, 17, 15],\n",
       "        [18, 17, 15],\n",
       "        [18, 17, 15],\n",
       "        ...,\n",
       "        [19, 18, 16],\n",
       "        [21, 19, 17],\n",
       "        [21, 19, 17]],\n",
       "\n",
       "       [[18, 17, 15],\n",
       "        [18, 17, 15],\n",
       "        [18, 17, 15],\n",
       "        ...,\n",
       "        [19, 18, 16],\n",
       "        [21, 19, 17],\n",
       "        [21, 19, 17]],\n",
       "\n",
       "       [[18, 17, 15],\n",
       "        [18, 17, 15],\n",
       "        [18, 17, 15],\n",
       "        ...,\n",
       "        [19, 18, 16],\n",
       "        [21, 19, 17],\n",
       "        [21, 19, 17]],\n",
       "\n",
       "       ...,\n",
       "\n",
       "       [[20, 12,  8],\n",
       "        [20, 12,  8],\n",
       "        [20, 12,  8],\n",
       "        ...,\n",
       "        [74, 62, 76],\n",
       "        [71, 60, 73],\n",
       "        [64, 53, 66]],\n",
       "\n",
       "       [[20, 12,  8],\n",
       "        [20, 12,  8],\n",
       "        [20, 12,  8],\n",
       "        ...,\n",
       "        [77, 66, 79],\n",
       "        [78, 67, 80],\n",
       "        [74, 62, 76]],\n",
       "\n",
       "       [[20, 12,  8],\n",
       "        [20, 12,  8],\n",
       "        [20, 12,  8],\n",
       "        ...,\n",
       "        [79, 65, 79],\n",
       "        [79, 65, 79],\n",
       "        [78, 64, 78]]], dtype=uint8)"
      ]
     },
     "execution_count": 7,
     "metadata": {},
     "output_type": "execute_result"
    }
   ],
   "source": [
    "img"
   ]
  },
  {
   "cell_type": "code",
   "execution_count": 8,
   "metadata": {},
   "outputs": [
    {
     "data": {
      "text/plain": [
       "(853, 1280, 3)"
      ]
     },
     "execution_count": 8,
     "metadata": {},
     "output_type": "execute_result"
    }
   ],
   "source": [
    "img.shape"
   ]
  },
  {
   "cell_type": "code",
   "execution_count": 9,
   "metadata": {},
   "outputs": [],
   "source": [
    "cv.imshow('cat',img)\n",
    "cv.waitKey()\n",
    "cv.destroyAllWindows()\n",
    "# 걍 계속 돌아간다. 창 끄면 꺼진다"
   ]
  },
  {
   "attachments": {
    "image.png": {
     "image/png": "[encoded data removed]"
    }
   },
   "cell_type": "markdown",
   "metadata": {},
   "source": [
    "![image.png](attachment:image.png)"
   ]
  },
  {
   "cell_type": "code",
   "execution_count": 10,
   "metadata": {},
   "outputs": [
    {
     "ename": "error",
     "evalue": "OpenCV(4.10.0) D:\\a\\opencv-python\\opencv-python\\opencv\\modules\\imgproc\\src\\demosaicing.cpp:1701: error: (-215:Assertion failed) scn == 1 && dcn == 1 in function 'cv::demosaicing'\n",
     "output_type": "error",
     "traceback": [
      "\u001b[1;31m---------------------------------------------------------------------------\u001b[0m",
      "\u001b[1;31merror\u001b[0m                                     Traceback (most recent call last)",
      "Cell \u001b[1;32mIn[10], line 1\u001b[0m\n\u001b[1;32m----> 1\u001b[0m grayimg \u001b[38;5;241m=\u001b[39m \u001b[43mcv\u001b[49m\u001b[38;5;241;43m.\u001b[39;49m\u001b[43mcvtColor\u001b[49m\u001b[43m(\u001b[49m\u001b[43mimg\u001b[49m\u001b[43m,\u001b[49m\u001b[43mcv\u001b[49m\u001b[38;5;241;43m.\u001b[39;49m\u001b[43mCOLOR_BAYER_BG2GRAY\u001b[49m\u001b[43m)\u001b[49m\n",
      "\u001b[1;31merror\u001b[0m: OpenCV(4.10.0) D:\\a\\opencv-python\\opencv-python\\opencv\\modules\\imgproc\\src\\demosaicing.cpp:1701: error: (-215:Assertion failed) scn == 1 && dcn == 1 in function 'cv::demosaicing'\n"
     ]
    }
   ],
   "source": [
    "grayimg = cv.cvtColor(img,cv.COLOR_BAYER_BG2GRAY)"
   ]
  },
  {
   "cell_type": "code",
   "execution_count": null,
   "metadata": {},
   "outputs": [
    {
     "ename": "NameError",
     "evalue": "name 'cv' is not defined",
     "output_type": "error",
     "traceback": [
      "\u001b[1;31m---------------------------------------------------------------------------\u001b[0m",
      "\u001b[1;31mNameError\u001b[0m                                 Traceback (most recent call last)",
      "Cell \u001b[1;32mIn[1], line 1\u001b[0m\n\u001b[1;32m----> 1\u001b[0m \u001b[43mcv\u001b[49m\u001b[38;5;241m.\u001b[39mimshow(\u001b[38;5;124m'\u001b[39m\u001b[38;5;124mcat\u001b[39m\u001b[38;5;124m'\u001b[39m,grayimg)\n\u001b[0;32m      2\u001b[0m cv\u001b[38;5;241m.\u001b[39mwaitKey()\n\u001b[0;32m      3\u001b[0m cv\u001b[38;5;241m.\u001b[39mdestroyAllWindows()\n",
      "\u001b[1;31mNameError\u001b[0m: name 'cv' is not defined"
     ]
    }
   ],
   "source": [
    "cv.imshow('cat',grayimg)\n",
    "cv.waitKey()\n",
    "cv.destroyAllWindows()"
   ]
  },
  {
   "cell_type": "code",
   "execution_count": null,
   "metadata": {},
   "outputs": [],
   "source": []
  }
 ],
 "metadata": {
  "kernelspec": {
   "display_name": "cv",
   "language": "python",
   "name": "python3"
  },
  "language_info": {
   "codemirror_mode": {
    "name": "ipython",
    "version": 3
   },
   "file_extension": ".py",
   "mimetype": "text/x-python",
   "name": "python",
   "nbconvert_exporter": "python",
   "pygments_lexer": "ipython3",
   "version": "3.9.16"
  }
 },
 "nbformat": 4,
 "nbformat_minor": 2
}
